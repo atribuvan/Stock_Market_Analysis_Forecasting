{
 "cells": [
  {
   "cell_type": "markdown",
   "metadata": {},
   "source": [
    "`Pythonista - Saurus Ztrimus`"
   ]
  },
  {
   "cell_type": "markdown",
   "metadata": {},
   "source": [
    "# Module 1 - Pandas"
   ]
  },
  {
   "cell_type": "markdown",
   "metadata": {},
   "source": [
    "### First Read `Readme.md` file which covers Prerequisites and Setup for Data Analysis"
   ]
  },
  {
   "cell_type": "markdown",
   "metadata": {},
   "source": [
    "## Introduction to the problem\n",
    "In Module 1, you are going to get familiar with pandas, the python module which is used to process and analyse data. Processing could include removing unknown values from the data or replacing unknown values with values which make sense, maybe 0. Analysing the data could include finding out the trend of a stock price, e.g. how the stock price changes with respect to the Nifty 50 basket of stocks.\n",
    "\n",
    "Please go through the Prerequisite/ reference material suggested for module 1 before attempting the tasks in module 1.\n",
    "## Resources \n",
    "\n",
    "1. [Pandas Udemy](https://rakeshgopal.teachable.com/blog/17849/pandas_python_lecture_notes)\n",
    "2. [Did you know pandas can do so much?](https://medium.com/fintechexplained/did-you-know-pandas-can-do-so-much-f65dc7db3051)\n",
    "3. [Pandas | Kaggle](https://www.kaggle.com/learn/pandas)\n",
    "4. [Pandas | Shane Lynn](https://www.shanelynn.ie/python-pandas-read_csv-load-data-from-csv-files/)\n",
    "5. [Top 8 resources for learning data analysis with pandas](https://www.dataschool.io/best-python-pandas-resources/)\n",
    "6. [Video - Complete Python Pandas Data Science Tutorial!](https://www.youtube.com/watch?v=vmEHCJofslg)"
   ]
  },
  {
   "cell_type": "markdown",
   "metadata": {},
   "source": [
    "## Problem Statements\n",
    "1. [Query 1.1](#id1)\n",
    "2. [Query 1.2](#id2)\n",
    "3. [Query 1.3](#id3)\n",
    "4. [Query 1.4](#id4)\n",
    "5. [Query 1.5](#id5)\n",
    "6. [Query 1.6](#id6)\n",
    "7. [Query 1.7](#id7)\n",
    "8. [Query 1.8](#id8)\n",
    "9. [Query 1.9](#id9)"
   ]
  },
  {
   "cell_type": "markdown",
   "metadata": {},
   "source": [
    "## Necessary Point to remember\n",
    "[Basics of Financial Markets](http://www.aspiration.ai/machine-learning/internship/Basics%20of%20Financial%20Markets.pdf)\n",
    "##### 1. Share:\n",
    "a share is a ‘part’ of a company which you can buy or sell, IF the company is publicly listed i.e. on a stock exchange.\n",
    "##### 2. Market Capitalization (Market Cap): \n",
    "the total number of shares of a company multiplied by the price of a share.\n",
    "##### 3. Stocks: \n",
    "refer to any arbitrary company. e.g. Akash owns **Stocks**\n",
    "##### 4. Shares: \n",
    "referring to a specific company. e.g Saurabh owns **shares** of Coca-Cola Company\n",
    "##### 5. Portfolio:\n",
    "If I have invested in more stocks than 1, let’s say 10 different stocks, then this collection of investment is known as a Portfolio.\n",
    "##### 6. Market Index:\n",
    "- identify a few companies to represent the broader markets. \n",
    "- So every time someone asks you how the markets are doing, you would just check the general trend of these selected stocks and then give an answer. \n",
    "- These companies that you have identified collectively make upthe stock market index.\n",
    "\n",
    "##### 7. Nifty: \n",
    "Nifty is the market index which represents the top 50 companies listed on the NSE(National Stock Exchange)\n",
    "##### 8. Sensex:\n",
    "Sensex is the market index which represents the top 30 companies listed on the BSE(Bombay Stock Exchange)\n",
    "##### 9. Market capitalization:\n",
    "Market capitalization is the product of total number of shares outstanding in the market, and the price of the stock.\n",
    "##### 10. Trend:\n",
    "A term ‘trend’ usually refers to the general market direction, and its associated strength. For example, if the market is declining fast, the trend is said to be bearish. If the market is trading flat with no movement then the trend is said to be sideways.\n",
    "##### 11. Volume (Total Traded Quantity):\n",
    "Volumes and its impact on the stock prices is an important concept . Volumes represent the total transactions (both buy and sell put together) for a particular stock on a particular day. For example, on 17thJune 2019, the volume on ACC was 5,33,819 shares.\n",
    "##### 12. Deliverable Quantity:\n",
    "All the shares which were not squared off on an intraday basis.\n",
    "##### 13. Turnover \n",
    "Product of total volume traded to the average price of a stock for the day\n",
    "##### 14. Previous close: \n",
    "Previous close is a security's closing price on the preceding day of trading. Previous close can refer to the prior day's value of a stock, bond, commodity, futures or option contract, market index, or any other security."
   ]
  },
  {
   "cell_type": "markdown",
   "metadata": {},
   "source": [
    "## <a id='id1'>Query 1.1</a> \n",
    "Import the csv file of the stock of your choosing using 'pd.read_csv()' function into a dataframe.\n",
    "Shares of a company can be offered in more than one category. The category of a stock is indicated in the ‘Series’ column. If the csv file has data on more than one category, the ‘Date’ column will have repeating values. To avoid repetitions in the date, remove all the rows where 'Series' column is NOT 'EQ'.\n",
    "Analyze and understand each column properly.\n",
    "You'd find the head(), tail() and describe() functions to be immensely useful for exploration. You're free to carry out any other exploration of your own."
   ]
  },
  {
   "cell_type": "code",
   "execution_count": 1,
   "metadata": {},
   "outputs": [],
   "source": [
    "# Importing necessary packages\n",
    "import numpy as np \n",
    "import pandas as pd\n",
    "\n",
    "import warnings\n",
    "warnings.filterwarnings('ignore')"
   ]
  },
  {
   "cell_type": "markdown",
   "metadata": {},
   "source": [
    "#### 1.1.1 importing CSV file using `pd.read_csv()`"
   ]
  },
  {
   "cell_type": "code",
   "execution_count": 2,
   "metadata": {
    "scrolled": true
   },
   "outputs": [
    {
     "data": {
      "text/html": [
       "<div>\n",
       "<style scoped>\n",
       "    .dataframe tbody tr th:only-of-type {\n",
       "        vertical-align: middle;\n",
       "    }\n",
       "\n",
       "    .dataframe tbody tr th {\n",
       "        vertical-align: top;\n",
       "    }\n",
       "\n",
       "    .dataframe thead th {\n",
       "        text-align: right;\n",
       "    }\n",
       "</style>\n",
       "<table border=\"1\" class=\"dataframe\">\n",
       "  <thead>\n",
       "    <tr style=\"text-align: right;\">\n",
       "      <th></th>\n",
       "      <th>Symbol</th>\n",
       "      <th>Series</th>\n",
       "      <th>Date</th>\n",
       "      <th>Prev Close</th>\n",
       "      <th>Open Price</th>\n",
       "      <th>High Price</th>\n",
       "      <th>Low Price</th>\n",
       "      <th>Last Price</th>\n",
       "      <th>Close Price</th>\n",
       "      <th>Average Price</th>\n",
       "      <th>Total Traded Quantity</th>\n",
       "      <th>Turnover</th>\n",
       "      <th>No. of Trades</th>\n",
       "      <th>Deliverable Qty</th>\n",
       "      <th>% Dly Qt to Traded Qty</th>\n",
       "    </tr>\n",
       "  </thead>\n",
       "  <tbody>\n",
       "    <tr>\n",
       "      <th>0</th>\n",
       "      <td>MUTHOOTFIN</td>\n",
       "      <td>EQ</td>\n",
       "      <td>15-May-2017</td>\n",
       "      <td>390.70</td>\n",
       "      <td>391.00</td>\n",
       "      <td>396.50</td>\n",
       "      <td>388.50</td>\n",
       "      <td>393.00</td>\n",
       "      <td>392.45</td>\n",
       "      <td>393.38</td>\n",
       "      <td>385865</td>\n",
       "      <td>1.517907e+08</td>\n",
       "      <td>6893</td>\n",
       "      <td>63660</td>\n",
       "      <td>16.50</td>\n",
       "    </tr>\n",
       "    <tr>\n",
       "      <th>1</th>\n",
       "      <td>MUTHOOTFIN</td>\n",
       "      <td>NB</td>\n",
       "      <td>15-May-2017</td>\n",
       "      <td>1750.00</td>\n",
       "      <td>1750.00</td>\n",
       "      <td>1750.00</td>\n",
       "      <td>1750.00</td>\n",
       "      <td>1750.00</td>\n",
       "      <td>1750.00</td>\n",
       "      <td>1750.00</td>\n",
       "      <td>50</td>\n",
       "      <td>8.750000e+04</td>\n",
       "      <td>1</td>\n",
       "      <td>50</td>\n",
       "      <td>100.00</td>\n",
       "    </tr>\n",
       "    <tr>\n",
       "      <th>2</th>\n",
       "      <td>MUTHOOTFIN</td>\n",
       "      <td>EQ</td>\n",
       "      <td>16-May-2017</td>\n",
       "      <td>392.45</td>\n",
       "      <td>393.65</td>\n",
       "      <td>400.95</td>\n",
       "      <td>393.25</td>\n",
       "      <td>393.45</td>\n",
       "      <td>394.80</td>\n",
       "      <td>398.01</td>\n",
       "      <td>514200</td>\n",
       "      <td>2.046578e+08</td>\n",
       "      <td>9938</td>\n",
       "      <td>100880</td>\n",
       "      <td>19.62</td>\n",
       "    </tr>\n",
       "    <tr>\n",
       "      <th>3</th>\n",
       "      <td>MUTHOOTFIN</td>\n",
       "      <td>N9</td>\n",
       "      <td>16-May-2017</td>\n",
       "      <td>1015.97</td>\n",
       "      <td>1010.00</td>\n",
       "      <td>1010.00</td>\n",
       "      <td>1010.00</td>\n",
       "      <td>1010.00</td>\n",
       "      <td>1010.00</td>\n",
       "      <td>1010.00</td>\n",
       "      <td>11</td>\n",
       "      <td>1.111000e+04</td>\n",
       "      <td>1</td>\n",
       "      <td>11</td>\n",
       "      <td>100.00</td>\n",
       "    </tr>\n",
       "  </tbody>\n",
       "</table>\n",
       "</div>"
      ],
      "text/plain": [
       "       Symbol Series         Date  Prev Close  Open Price  High Price  \\\n",
       "0  MUTHOOTFIN     EQ  15-May-2017      390.70      391.00      396.50   \n",
       "1  MUTHOOTFIN     NB  15-May-2017     1750.00     1750.00     1750.00   \n",
       "2  MUTHOOTFIN     EQ  16-May-2017      392.45      393.65      400.95   \n",
       "3  MUTHOOTFIN     N9  16-May-2017     1015.97     1010.00     1010.00   \n",
       "\n",
       "   Low Price  Last Price  Close Price  Average Price  Total Traded Quantity  \\\n",
       "0     388.50      393.00       392.45         393.38                 385865   \n",
       "1    1750.00     1750.00      1750.00        1750.00                     50   \n",
       "2     393.25      393.45       394.80         398.01                 514200   \n",
       "3    1010.00     1010.00      1010.00        1010.00                     11   \n",
       "\n",
       "       Turnover  No. of Trades  Deliverable Qty  % Dly Qt to Traded Qty  \n",
       "0  1.517907e+08           6893            63660                   16.50  \n",
       "1  8.750000e+04              1               50                  100.00  \n",
       "2  2.046578e+08           9938           100880                   19.62  \n",
       "3  1.111000e+04              1               11                  100.00  "
      ]
     },
     "execution_count": 2,
     "metadata": {},
     "output_type": "execute_result"
    }
   ],
   "source": [
    "stock_data = pd.read_csv('dataset3.csv')\n",
    "stock_data.head(4)"
   ]
  },
  {
   "cell_type": "markdown",
   "metadata": {},
   "source": [
    "#### 1.1.2 Check whether csv file has data on more than one category.\n",
    "\n",
    "- checking for the ‘Date’ column will have repeating values."
   ]
  },
  {
   "cell_type": "code",
   "execution_count": 3,
   "metadata": {},
   "outputs": [
    {
     "data": {
      "text/plain": [
       "array(['EQ', 'NB', 'N9', 'NC', 'NF', nan, 'NG', 'ND'], dtype=object)"
      ]
     },
     "execution_count": 3,
     "metadata": {},
     "output_type": "execute_result"
    }
   ],
   "source": [
    "# Categories in Series column\n",
    "stock_data.Series.unique()"
   ]
  },
  {
   "cell_type": "code",
   "execution_count": 4,
   "metadata": {},
   "outputs": [
    {
     "data": {
      "text/html": [
       "<div>\n",
       "<style scoped>\n",
       "    .dataframe tbody tr th:only-of-type {\n",
       "        vertical-align: middle;\n",
       "    }\n",
       "\n",
       "    .dataframe tbody tr th {\n",
       "        vertical-align: top;\n",
       "    }\n",
       "\n",
       "    .dataframe thead th {\n",
       "        text-align: right;\n",
       "    }\n",
       "</style>\n",
       "<table border=\"1\" class=\"dataframe\">\n",
       "  <thead>\n",
       "    <tr style=\"text-align: right;\">\n",
       "      <th></th>\n",
       "      <th>Symbol</th>\n",
       "      <th>Series</th>\n",
       "      <th>Date</th>\n",
       "      <th>Prev Close</th>\n",
       "      <th>Open Price</th>\n",
       "      <th>High Price</th>\n",
       "      <th>Low Price</th>\n",
       "      <th>Last Price</th>\n",
       "      <th>Close Price</th>\n",
       "      <th>Average Price</th>\n",
       "      <th>Total Traded Quantity</th>\n",
       "      <th>Turnover</th>\n",
       "      <th>No. of Trades</th>\n",
       "      <th>Deliverable Qty</th>\n",
       "      <th>% Dly Qt to Traded Qty</th>\n",
       "    </tr>\n",
       "  </thead>\n",
       "  <tbody>\n",
       "  </tbody>\n",
       "</table>\n",
       "</div>"
      ],
      "text/plain": [
       "Empty DataFrame\n",
       "Columns: [Symbol, Series, Date, Prev Close, Open Price, High Price, Low Price, Last Price, Close Price, Average Price, Total Traded Quantity, Turnover, No. of Trades, Deliverable Qty, % Dly Qt to Traded Qty]\n",
       "Index: []"
      ]
     },
     "execution_count": 4,
     "metadata": {},
     "output_type": "execute_result"
    }
   ],
   "source": [
    "# All rows where Series have 'BL' category\n",
    "stock_data[stock_data.Series == 'BL']"
   ]
  },
  {
   "cell_type": "markdown",
   "metadata": {},
   "source": [
    "**Means `Series` column have data on more than one category.**<br>\n",
    "**Let's remove all the rows where `'Series'` column is NOT 'EQ', To avoid repetitions in the `date`.**"
   ]
  },
  {
   "cell_type": "markdown",
   "metadata": {},
   "source": [
    "#### 1.1.3 Remove all the rows where 'Series' column is NOT 'EQ'."
   ]
  },
  {
   "cell_type": "code",
   "execution_count": 5,
   "metadata": {},
   "outputs": [
    {
     "data": {
      "text/plain": [
       "array(['EQ'], dtype=object)"
      ]
     },
     "execution_count": 5,
     "metadata": {},
     "output_type": "execute_result"
    }
   ],
   "source": [
    "# Taking all rows which have 'EQ' in Series columns\n",
    "stock_data = stock_data[stock_data.Series == 'EQ']\n",
    "\n",
    "# To ensure only category in Series Columns\n",
    "stock_data.Series.unique()"
   ]
  },
  {
   "cell_type": "markdown",
   "metadata": {},
   "source": [
    "#### 1.1.4 Analyze and understand `stock_data` DataFrame properly."
   ]
  },
  {
   "cell_type": "code",
   "execution_count": 7,
   "metadata": {},
   "outputs": [
    {
     "data": {
      "text/html": [
       "<div>\n",
       "<style scoped>\n",
       "    .dataframe tbody tr th:only-of-type {\n",
       "        vertical-align: middle;\n",
       "    }\n",
       "\n",
       "    .dataframe tbody tr th {\n",
       "        vertical-align: top;\n",
       "    }\n",
       "\n",
       "    .dataframe thead th {\n",
       "        text-align: right;\n",
       "    }\n",
       "</style>\n",
       "<table border=\"1\" class=\"dataframe\">\n",
       "  <thead>\n",
       "    <tr style=\"text-align: right;\">\n",
       "      <th></th>\n",
       "      <th>Symbol</th>\n",
       "      <th>Series</th>\n",
       "      <th>Date</th>\n",
       "      <th>Prev Close</th>\n",
       "      <th>Open Price</th>\n",
       "      <th>High Price</th>\n",
       "      <th>Low Price</th>\n",
       "      <th>Last Price</th>\n",
       "      <th>Close Price</th>\n",
       "      <th>Average Price</th>\n",
       "      <th>Total Traded Quantity</th>\n",
       "      <th>Turnover</th>\n",
       "      <th>No. of Trades</th>\n",
       "      <th>Deliverable Qty</th>\n",
       "      <th>% Dly Qt to Traded Qty</th>\n",
       "    </tr>\n",
       "  </thead>\n",
       "  <tbody>\n",
       "    <tr>\n",
       "      <th>183</th>\n",
       "      <td>MUTHOOTFIN</td>\n",
       "      <td>EQ</td>\n",
       "      <td>26-Jul-2017</td>\n",
       "      <td>465.95</td>\n",
       "      <td>468.90</td>\n",
       "      <td>483.40</td>\n",
       "      <td>467.00</td>\n",
       "      <td>476.15</td>\n",
       "      <td>477.65</td>\n",
       "      <td>477.30</td>\n",
       "      <td>1687894</td>\n",
       "      <td>8.056326e+08</td>\n",
       "      <td>29027</td>\n",
       "      <td>436136</td>\n",
       "      <td>25.84</td>\n",
       "    </tr>\n",
       "    <tr>\n",
       "      <th>188</th>\n",
       "      <td>MUTHOOTFIN</td>\n",
       "      <td>EQ</td>\n",
       "      <td>27-Jul-2017</td>\n",
       "      <td>477.65</td>\n",
       "      <td>481.95</td>\n",
       "      <td>481.95</td>\n",
       "      <td>462.65</td>\n",
       "      <td>466.00</td>\n",
       "      <td>465.35</td>\n",
       "      <td>471.58</td>\n",
       "      <td>947528</td>\n",
       "      <td>4.468381e+08</td>\n",
       "      <td>13873</td>\n",
       "      <td>372516</td>\n",
       "      <td>39.31</td>\n",
       "    </tr>\n",
       "    <tr>\n",
       "      <th>194</th>\n",
       "      <td>MUTHOOTFIN</td>\n",
       "      <td>EQ</td>\n",
       "      <td>28-Jul-2017</td>\n",
       "      <td>465.35</td>\n",
       "      <td>465.00</td>\n",
       "      <td>474.75</td>\n",
       "      <td>462.30</td>\n",
       "      <td>467.15</td>\n",
       "      <td>467.50</td>\n",
       "      <td>469.82</td>\n",
       "      <td>568445</td>\n",
       "      <td>2.670663e+08</td>\n",
       "      <td>9890</td>\n",
       "      <td>51096</td>\n",
       "      <td>8.99</td>\n",
       "    </tr>\n",
       "    <tr>\n",
       "      <th>198</th>\n",
       "      <td>MUTHOOTFIN</td>\n",
       "      <td>EQ</td>\n",
       "      <td>31-Jul-2017</td>\n",
       "      <td>467.50</td>\n",
       "      <td>468.00</td>\n",
       "      <td>480.00</td>\n",
       "      <td>467.80</td>\n",
       "      <td>474.60</td>\n",
       "      <td>474.15</td>\n",
       "      <td>473.95</td>\n",
       "      <td>889969</td>\n",
       "      <td>4.217998e+08</td>\n",
       "      <td>10929</td>\n",
       "      <td>304049</td>\n",
       "      <td>34.16</td>\n",
       "    </tr>\n",
       "  </tbody>\n",
       "</table>\n",
       "</div>"
      ],
      "text/plain": [
       "         Symbol Series         Date  Prev Close  Open Price  High Price  \\\n",
       "183  MUTHOOTFIN     EQ  26-Jul-2017      465.95      468.90      483.40   \n",
       "188  MUTHOOTFIN     EQ  27-Jul-2017      477.65      481.95      481.95   \n",
       "194  MUTHOOTFIN     EQ  28-Jul-2017      465.35      465.00      474.75   \n",
       "198  MUTHOOTFIN     EQ  31-Jul-2017      467.50      468.00      480.00   \n",
       "\n",
       "     Low Price  Last Price  Close Price  Average Price  Total Traded Quantity  \\\n",
       "183     467.00      476.15       477.65         477.30                1687894   \n",
       "188     462.65      466.00       465.35         471.58                 947528   \n",
       "194     462.30      467.15       467.50         469.82                 568445   \n",
       "198     467.80      474.60       474.15         473.95                 889969   \n",
       "\n",
       "         Turnover  No. of Trades  Deliverable Qty  % Dly Qt to Traded Qty  \n",
       "183  8.056326e+08          29027           436136                   25.84  \n",
       "188  4.468381e+08          13873           372516                   39.31  \n",
       "194  2.670663e+08           9890            51096                    8.99  \n",
       "198  4.217998e+08          10929           304049                   34.16  "
      ]
     },
     "execution_count": 7,
     "metadata": {},
     "output_type": "execute_result"
    }
   ],
   "source": [
    "# Checking Last 4 Rows\n",
    "stock_data.tail(4)"
   ]
  },
  {
   "cell_type": "code",
   "execution_count": 8,
   "metadata": {},
   "outputs": [
    {
     "data": {
      "text/html": [
       "<div>\n",
       "<style scoped>\n",
       "    .dataframe tbody tr th:only-of-type {\n",
       "        vertical-align: middle;\n",
       "    }\n",
       "\n",
       "    .dataframe tbody tr th {\n",
       "        vertical-align: top;\n",
       "    }\n",
       "\n",
       "    .dataframe thead th {\n",
       "        text-align: right;\n",
       "    }\n",
       "</style>\n",
       "<table border=\"1\" class=\"dataframe\">\n",
       "  <thead>\n",
       "    <tr style=\"text-align: right;\">\n",
       "      <th></th>\n",
       "      <th>Symbol</th>\n",
       "      <th>Series</th>\n",
       "      <th>Date</th>\n",
       "      <th>Prev Close</th>\n",
       "      <th>Open Price</th>\n",
       "      <th>High Price</th>\n",
       "      <th>Low Price</th>\n",
       "      <th>Last Price</th>\n",
       "      <th>Close Price</th>\n",
       "      <th>Average Price</th>\n",
       "      <th>Total Traded Quantity</th>\n",
       "      <th>Turnover</th>\n",
       "      <th>No. of Trades</th>\n",
       "      <th>Deliverable Qty</th>\n",
       "      <th>% Dly Qt to Traded Qty</th>\n",
       "    </tr>\n",
       "  </thead>\n",
       "  <tbody>\n",
       "    <tr>\n",
       "      <th>0</th>\n",
       "      <td>MUTHOOTFIN</td>\n",
       "      <td>EQ</td>\n",
       "      <td>15-May-2017</td>\n",
       "      <td>390.70</td>\n",
       "      <td>391.00</td>\n",
       "      <td>396.50</td>\n",
       "      <td>388.50</td>\n",
       "      <td>393.00</td>\n",
       "      <td>392.45</td>\n",
       "      <td>393.38</td>\n",
       "      <td>385865</td>\n",
       "      <td>1.517907e+08</td>\n",
       "      <td>6893</td>\n",
       "      <td>63660</td>\n",
       "      <td>16.50</td>\n",
       "    </tr>\n",
       "    <tr>\n",
       "      <th>2</th>\n",
       "      <td>MUTHOOTFIN</td>\n",
       "      <td>EQ</td>\n",
       "      <td>16-May-2017</td>\n",
       "      <td>392.45</td>\n",
       "      <td>393.65</td>\n",
       "      <td>400.95</td>\n",
       "      <td>393.25</td>\n",
       "      <td>393.45</td>\n",
       "      <td>394.80</td>\n",
       "      <td>398.01</td>\n",
       "      <td>514200</td>\n",
       "      <td>2.046578e+08</td>\n",
       "      <td>9938</td>\n",
       "      <td>100880</td>\n",
       "      <td>19.62</td>\n",
       "    </tr>\n",
       "    <tr>\n",
       "      <th>6</th>\n",
       "      <td>MUTHOOTFIN</td>\n",
       "      <td>EQ</td>\n",
       "      <td>17-May-2017</td>\n",
       "      <td>394.80</td>\n",
       "      <td>396.90</td>\n",
       "      <td>398.00</td>\n",
       "      <td>392.60</td>\n",
       "      <td>394.10</td>\n",
       "      <td>395.15</td>\n",
       "      <td>394.90</td>\n",
       "      <td>311597</td>\n",
       "      <td>1.230481e+08</td>\n",
       "      <td>6512</td>\n",
       "      <td>116484</td>\n",
       "      <td>37.38</td>\n",
       "    </tr>\n",
       "    <tr>\n",
       "      <th>8</th>\n",
       "      <td>MUTHOOTFIN</td>\n",
       "      <td>EQ</td>\n",
       "      <td>18-May-2017</td>\n",
       "      <td>395.15</td>\n",
       "      <td>393.00</td>\n",
       "      <td>395.45</td>\n",
       "      <td>375.10</td>\n",
       "      <td>378.85</td>\n",
       "      <td>379.20</td>\n",
       "      <td>386.45</td>\n",
       "      <td>646434</td>\n",
       "      <td>2.498119e+08</td>\n",
       "      <td>11171</td>\n",
       "      <td>238171</td>\n",
       "      <td>36.84</td>\n",
       "    </tr>\n",
       "    <tr>\n",
       "      <th>10</th>\n",
       "      <td>MUTHOOTFIN</td>\n",
       "      <td>EQ</td>\n",
       "      <td>19-May-2017</td>\n",
       "      <td>379.20</td>\n",
       "      <td>395.00</td>\n",
       "      <td>400.90</td>\n",
       "      <td>357.45</td>\n",
       "      <td>381.00</td>\n",
       "      <td>379.15</td>\n",
       "      <td>382.13</td>\n",
       "      <td>3211995</td>\n",
       "      <td>1.227389e+09</td>\n",
       "      <td>42906</td>\n",
       "      <td>1193472</td>\n",
       "      <td>37.16</td>\n",
       "    </tr>\n",
       "  </tbody>\n",
       "</table>\n",
       "</div>"
      ],
      "text/plain": [
       "        Symbol Series         Date  Prev Close  Open Price  High Price  \\\n",
       "0   MUTHOOTFIN     EQ  15-May-2017      390.70      391.00      396.50   \n",
       "2   MUTHOOTFIN     EQ  16-May-2017      392.45      393.65      400.95   \n",
       "6   MUTHOOTFIN     EQ  17-May-2017      394.80      396.90      398.00   \n",
       "8   MUTHOOTFIN     EQ  18-May-2017      395.15      393.00      395.45   \n",
       "10  MUTHOOTFIN     EQ  19-May-2017      379.20      395.00      400.90   \n",
       "\n",
       "    Low Price  Last Price  Close Price  Average Price  Total Traded Quantity  \\\n",
       "0      388.50      393.00       392.45         393.38                 385865   \n",
       "2      393.25      393.45       394.80         398.01                 514200   \n",
       "6      392.60      394.10       395.15         394.90                 311597   \n",
       "8      375.10      378.85       379.20         386.45                 646434   \n",
       "10     357.45      381.00       379.15         382.13                3211995   \n",
       "\n",
       "        Turnover  No. of Trades  Deliverable Qty  % Dly Qt to Traded Qty  \n",
       "0   1.517907e+08           6893            63660                   16.50  \n",
       "2   2.046578e+08           9938           100880                   19.62  \n",
       "6   1.230481e+08           6512           116484                   37.38  \n",
       "8   2.498119e+08          11171           238171                   36.84  \n",
       "10  1.227389e+09          42906          1193472                   37.16  "
      ]
     },
     "execution_count": 8,
     "metadata": {},
     "output_type": "execute_result"
    }
   ],
   "source": [
    "# Checking First 5 Rows\n",
    "stock_data.head()"
   ]
  },
  {
   "cell_type": "code",
   "execution_count": 9,
   "metadata": {},
   "outputs": [
    {
     "data": {
      "text/html": [
       "<div>\n",
       "<style scoped>\n",
       "    .dataframe tbody tr th:only-of-type {\n",
       "        vertical-align: middle;\n",
       "    }\n",
       "\n",
       "    .dataframe tbody tr th {\n",
       "        vertical-align: top;\n",
       "    }\n",
       "\n",
       "    .dataframe thead th {\n",
       "        text-align: right;\n",
       "    }\n",
       "</style>\n",
       "<table border=\"1\" class=\"dataframe\">\n",
       "  <thead>\n",
       "    <tr style=\"text-align: right;\">\n",
       "      <th></th>\n",
       "      <th>Prev Close</th>\n",
       "      <th>Open Price</th>\n",
       "      <th>High Price</th>\n",
       "      <th>Low Price</th>\n",
       "      <th>Last Price</th>\n",
       "      <th>Close Price</th>\n",
       "      <th>Average Price</th>\n",
       "      <th>Total Traded Quantity</th>\n",
       "      <th>Turnover</th>\n",
       "      <th>No. of Trades</th>\n",
       "      <th>Deliverable Qty</th>\n",
       "      <th>% Dly Qt to Traded Qty</th>\n",
       "    </tr>\n",
       "  </thead>\n",
       "  <tbody>\n",
       "    <tr>\n",
       "      <th>count</th>\n",
       "      <td>55.000000</td>\n",
       "      <td>55.000000</td>\n",
       "      <td>55.000000</td>\n",
       "      <td>55.000000</td>\n",
       "      <td>55.000000</td>\n",
       "      <td>55.000000</td>\n",
       "      <td>55.000000</td>\n",
       "      <td>5.500000e+01</td>\n",
       "      <td>5.500000e+01</td>\n",
       "      <td>55.000000</td>\n",
       "      <td>5.500000e+01</td>\n",
       "      <td>55.000000</td>\n",
       "    </tr>\n",
       "    <tr>\n",
       "      <th>mean</th>\n",
       "      <td>438.600909</td>\n",
       "      <td>440.264545</td>\n",
       "      <td>447.623636</td>\n",
       "      <td>432.609091</td>\n",
       "      <td>440.110000</td>\n",
       "      <td>440.118182</td>\n",
       "      <td>440.981818</td>\n",
       "      <td>7.731423e+05</td>\n",
       "      <td>3.381057e+08</td>\n",
       "      <td>14768.836364</td>\n",
       "      <td>2.960156e+05</td>\n",
       "      <td>36.942000</td>\n",
       "    </tr>\n",
       "    <tr>\n",
       "      <th>std</th>\n",
       "      <td>31.309577</td>\n",
       "      <td>30.830716</td>\n",
       "      <td>30.787009</td>\n",
       "      <td>31.452285</td>\n",
       "      <td>30.906762</td>\n",
       "      <td>30.965411</td>\n",
       "      <td>30.737332</td>\n",
       "      <td>5.304414e+05</td>\n",
       "      <td>2.196094e+08</td>\n",
       "      <td>7745.796047</td>\n",
       "      <td>2.597386e+05</td>\n",
       "      <td>12.599793</td>\n",
       "    </tr>\n",
       "    <tr>\n",
       "      <th>min</th>\n",
       "      <td>379.150000</td>\n",
       "      <td>382.100000</td>\n",
       "      <td>389.750000</td>\n",
       "      <td>357.450000</td>\n",
       "      <td>378.850000</td>\n",
       "      <td>379.150000</td>\n",
       "      <td>382.130000</td>\n",
       "      <td>6.596000e+04</td>\n",
       "      <td>2.971503e+07</td>\n",
       "      <td>1324.000000</td>\n",
       "      <td>3.014400e+04</td>\n",
       "      <td>8.990000</td>\n",
       "    </tr>\n",
       "    <tr>\n",
       "      <th>25%</th>\n",
       "      <td>411.300000</td>\n",
       "      <td>413.650000</td>\n",
       "      <td>424.975000</td>\n",
       "      <td>406.025000</td>\n",
       "      <td>418.975000</td>\n",
       "      <td>418.750000</td>\n",
       "      <td>415.515000</td>\n",
       "      <td>4.121265e+05</td>\n",
       "      <td>1.882909e+08</td>\n",
       "      <td>9590.000000</td>\n",
       "      <td>1.341420e+05</td>\n",
       "      <td>29.335000</td>\n",
       "    </tr>\n",
       "    <tr>\n",
       "      <th>50%</th>\n",
       "      <td>449.450000</td>\n",
       "      <td>450.750000</td>\n",
       "      <td>458.000000</td>\n",
       "      <td>445.200000</td>\n",
       "      <td>450.500000</td>\n",
       "      <td>449.500000</td>\n",
       "      <td>450.730000</td>\n",
       "      <td>5.809790e+05</td>\n",
       "      <td>2.511440e+08</td>\n",
       "      <td>13813.000000</td>\n",
       "      <td>2.091330e+05</td>\n",
       "      <td>35.810000</td>\n",
       "    </tr>\n",
       "    <tr>\n",
       "      <th>75%</th>\n",
       "      <td>464.750000</td>\n",
       "      <td>465.000000</td>\n",
       "      <td>472.400000</td>\n",
       "      <td>456.475000</td>\n",
       "      <td>465.550000</td>\n",
       "      <td>465.075000</td>\n",
       "      <td>464.140000</td>\n",
       "      <td>9.540045e+05</td>\n",
       "      <td>4.343190e+08</td>\n",
       "      <td>18781.000000</td>\n",
       "      <td>3.647800e+05</td>\n",
       "      <td>43.005000</td>\n",
       "    </tr>\n",
       "    <tr>\n",
       "      <th>max</th>\n",
       "      <td>477.650000</td>\n",
       "      <td>481.950000</td>\n",
       "      <td>483.400000</td>\n",
       "      <td>470.250000</td>\n",
       "      <td>476.150000</td>\n",
       "      <td>477.650000</td>\n",
       "      <td>477.300000</td>\n",
       "      <td>3.211995e+06</td>\n",
       "      <td>1.227389e+09</td>\n",
       "      <td>42906.000000</td>\n",
       "      <td>1.424301e+06</td>\n",
       "      <td>82.150000</td>\n",
       "    </tr>\n",
       "  </tbody>\n",
       "</table>\n",
       "</div>"
      ],
      "text/plain": [
       "       Prev Close  Open Price  High Price   Low Price  Last Price  \\\n",
       "count   55.000000   55.000000   55.000000   55.000000   55.000000   \n",
       "mean   438.600909  440.264545  447.623636  432.609091  440.110000   \n",
       "std     31.309577   30.830716   30.787009   31.452285   30.906762   \n",
       "min    379.150000  382.100000  389.750000  357.450000  378.850000   \n",
       "25%    411.300000  413.650000  424.975000  406.025000  418.975000   \n",
       "50%    449.450000  450.750000  458.000000  445.200000  450.500000   \n",
       "75%    464.750000  465.000000  472.400000  456.475000  465.550000   \n",
       "max    477.650000  481.950000  483.400000  470.250000  476.150000   \n",
       "\n",
       "       Close Price  Average Price  Total Traded Quantity      Turnover  \\\n",
       "count    55.000000      55.000000           5.500000e+01  5.500000e+01   \n",
       "mean    440.118182     440.981818           7.731423e+05  3.381057e+08   \n",
       "std      30.965411      30.737332           5.304414e+05  2.196094e+08   \n",
       "min     379.150000     382.130000           6.596000e+04  2.971503e+07   \n",
       "25%     418.750000     415.515000           4.121265e+05  1.882909e+08   \n",
       "50%     449.500000     450.730000           5.809790e+05  2.511440e+08   \n",
       "75%     465.075000     464.140000           9.540045e+05  4.343190e+08   \n",
       "max     477.650000     477.300000           3.211995e+06  1.227389e+09   \n",
       "\n",
       "       No. of Trades  Deliverable Qty  % Dly Qt to Traded Qty  \n",
       "count      55.000000     5.500000e+01               55.000000  \n",
       "mean    14768.836364     2.960156e+05               36.942000  \n",
       "std      7745.796047     2.597386e+05               12.599793  \n",
       "min      1324.000000     3.014400e+04                8.990000  \n",
       "25%      9590.000000     1.341420e+05               29.335000  \n",
       "50%     13813.000000     2.091330e+05               35.810000  \n",
       "75%     18781.000000     3.647800e+05               43.005000  \n",
       "max     42906.000000     1.424301e+06               82.150000  "
      ]
     },
     "execution_count": 9,
     "metadata": {},
     "output_type": "execute_result"
    }
   ],
   "source": [
    "# Generates descriptive statistics of stock_data\n",
    "stock_data.describe()"
   ]
  },
  {
   "cell_type": "markdown",
   "metadata": {},
   "source": [
    "## <a id='id2'>Query 1.2</a> \n",
    "Calculate the maximum, minimum and mean price for the last 90 days. (price=Closing Price unless stated otherwise)"
   ]
  },
  {
   "cell_type": "code",
   "execution_count": 10,
   "metadata": {
    "scrolled": true
   },
   "outputs": [
    {
     "data": {
      "text/plain": [
       "max     477.650000\n",
       "min     379.150000\n",
       "mean    440.118182\n",
       "Name: Close Price, dtype: float64"
      ]
     },
     "execution_count": 10,
     "metadata": {},
     "output_type": "execute_result"
    }
   ],
   "source": [
    "last_90_days = stock_data.tail(90)\n",
    "price = last_90_days['Close Price']\n",
    "max_min_mean = price.apply(['max', 'min', 'mean'])\n",
    "max_min_mean"
   ]
  },
  {
   "cell_type": "markdown",
   "metadata": {},
   "source": [
    " - **`tail(90)` - Gives last 90 rows which equivalent to last 90 days**.\n",
    " - **`['Close Price']` - For selecting Cloumn \"Closing Price\"**.\n",
    " - **`.apply()` - Use to apply different function on Column \"Close Price\"**."
   ]
  },
  {
   "cell_type": "code",
   "execution_count": 11,
   "metadata": {},
   "outputs": [
    {
     "data": {
      "text/plain": [
       "max     477.650000\n",
       "min     379.150000\n",
       "mean    440.118182\n",
       "Name: Close Price, dtype: float64"
      ]
     },
     "execution_count": 11,
     "metadata": {},
     "output_type": "execute_result"
    }
   ],
   "source": [
    "# Optimized way\n",
    "stock_data.tail(90)['Close Price'].apply(['max', 'min', 'mean'])"
   ]
  },
  {
   "cell_type": "markdown",
   "metadata": {},
   "source": [
    "## <a id='id3'>Query 1.3</a> \n",
    "Analyse the data types for each column of the dataframe. Pandas knows how to deal with dates in an intelligent manner. But to make use of Pandas functionality for dates, you need to ensure that the column is of type 'datetime64(ns)'. Change the date column from 'object' type to 'datetime64(ns)' for future convenience. See what happens if you subtract the minimum value of the date column from the maximum value."
   ]
  },
  {
   "cell_type": "markdown",
   "metadata": {},
   "source": [
    "#### 1.3.1 Analyse the data types for each column of the \"stock_data\""
   ]
  },
  {
   "cell_type": "code",
   "execution_count": 12,
   "metadata": {
    "scrolled": true
   },
   "outputs": [
    {
     "data": {
      "text/plain": [
       "Symbol                     object\n",
       "Series                     object\n",
       "Date                       object\n",
       "Prev Close                float64\n",
       "Open Price                float64\n",
       "High Price                float64\n",
       "Low Price                 float64\n",
       "Last Price                float64\n",
       "Close Price               float64\n",
       "Average Price             float64\n",
       "Total Traded Quantity       int64\n",
       "Turnover                  float64\n",
       "No. of Trades               int64\n",
       "Deliverable Qty             int64\n",
       "% Dly Qt to Traded Qty    float64\n",
       "dtype: object"
      ]
     },
     "execution_count": 12,
     "metadata": {},
     "output_type": "execute_result"
    }
   ],
   "source": [
    "#### 1.3.1 Analyse the data types for each column of the \"stock_data\"\n",
    "stock_data.dtypes"
   ]
  },
  {
   "cell_type": "markdown",
   "metadata": {},
   "source": [
    "#### 1.3.2 Changing the `date` column from 'object' type to 'datetime64(ns)'"
   ]
  },
  {
   "cell_type": "code",
   "execution_count": 13,
   "metadata": {
    "scrolled": true
   },
   "outputs": [
    {
     "data": {
      "text/plain": [
       "dtype('O')"
      ]
     },
     "execution_count": 13,
     "metadata": {},
     "output_type": "execute_result"
    }
   ],
   "source": [
    "# Date type of \"Date\" column in stock_data\n",
    "stock_data.Date.dtypes"
   ]
  },
  {
   "cell_type": "code",
   "execution_count": 14,
   "metadata": {},
   "outputs": [
    {
     "data": {
      "text/plain": [
       "True"
      ]
     },
     "execution_count": 14,
     "metadata": {},
     "output_type": "execute_result"
    }
   ],
   "source": [
    "# Showing dtype('O') is Object type\n",
    "np.dtype('O') == np.dtype('object')"
   ]
  },
  {
   "cell_type": "code",
   "execution_count": 15,
   "metadata": {},
   "outputs": [],
   "source": [
    "# Changing the `date` column from 'object' type to 'datetime64(ns)' \n",
    "# stock_data.Date  = pd.to_datetime(stock_data.Date)\n",
    "stock_data['Date'] = pd.to_datetime(stock_data['Date'], format='%d-%b-%Y')"
   ]
  },
  {
   "cell_type": "code",
   "execution_count": 16,
   "metadata": {},
   "outputs": [
    {
     "data": {
      "text/plain": [
       "dtype('<M8[ns]')"
      ]
     },
     "execution_count": 16,
     "metadata": {},
     "output_type": "execute_result"
    }
   ],
   "source": [
    "# Check datatype of Date column\n",
    "stock_data.Date.dtype"
   ]
  },
  {
   "cell_type": "code",
   "execution_count": 17,
   "metadata": {},
   "outputs": [
    {
     "data": {
      "text/plain": [
       "True"
      ]
     },
     "execution_count": 17,
     "metadata": {},
     "output_type": "execute_result"
    }
   ],
   "source": [
    "# Showing dtype('<M8[ns]') is datetime64[ns] type\n",
    "np.dtype('<M8[ns]') == np.dtype('datetime64[ns]')"
   ]
  },
  {
   "cell_type": "code",
   "execution_count": 18,
   "metadata": {},
   "outputs": [
    {
     "data": {
      "text/plain": [
       "Symbol                            object\n",
       "Series                            object\n",
       "Date                      datetime64[ns]\n",
       "Prev Close                       float64\n",
       "Open Price                       float64\n",
       "High Price                       float64\n",
       "Low Price                        float64\n",
       "Last Price                       float64\n",
       "Close Price                      float64\n",
       "Average Price                    float64\n",
       "Total Traded Quantity              int64\n",
       "Turnover                         float64\n",
       "No. of Trades                      int64\n",
       "Deliverable Qty                    int64\n",
       "% Dly Qt to Traded Qty           float64\n",
       "dtype: object"
      ]
     },
     "execution_count": 18,
     "metadata": {},
     "output_type": "execute_result"
    }
   ],
   "source": [
    "# Checking Changed Datatypes\n",
    "stock_data.dtypes"
   ]
  },
  {
   "cell_type": "code",
   "execution_count": 54,
   "metadata": {
    "scrolled": true
   },
   "outputs": [
    {
     "data": {
      "text/html": [
       "<div>\n",
       "<style scoped>\n",
       "    .dataframe tbody tr th:only-of-type {\n",
       "        vertical-align: middle;\n",
       "    }\n",
       "\n",
       "    .dataframe tbody tr th {\n",
       "        vertical-align: top;\n",
       "    }\n",
       "\n",
       "    .dataframe thead th {\n",
       "        text-align: right;\n",
       "    }\n",
       "</style>\n",
       "<table border=\"1\" class=\"dataframe\">\n",
       "  <thead>\n",
       "    <tr style=\"text-align: right;\">\n",
       "      <th></th>\n",
       "      <th>Symbol</th>\n",
       "      <th>Series</th>\n",
       "      <th>Date</th>\n",
       "      <th>Prev Close</th>\n",
       "      <th>Open Price</th>\n",
       "      <th>High Price</th>\n",
       "      <th>Low Price</th>\n",
       "      <th>Last Price</th>\n",
       "      <th>Close Price</th>\n",
       "      <th>Average Price</th>\n",
       "      <th>Total Traded Quantity</th>\n",
       "      <th>Turnover</th>\n",
       "      <th>No. of Trades</th>\n",
       "      <th>Deliverable Qty</th>\n",
       "      <th>% Dly Qt to Traded Qty</th>\n",
       "      <th>Year</th>\n",
       "      <th>Month</th>\n",
       "      <th>Day_Perc_Change</th>\n",
       "      <th>Trend</th>\n",
       "    </tr>\n",
       "  </thead>\n",
       "  <tbody>\n",
       "    <tr>\n",
       "      <th>0</th>\n",
       "      <td>MUTHOOTFIN</td>\n",
       "      <td>EQ</td>\n",
       "      <td>2017-05-15</td>\n",
       "      <td>390.70</td>\n",
       "      <td>391.00</td>\n",
       "      <td>396.50</td>\n",
       "      <td>388.50</td>\n",
       "      <td>393.00</td>\n",
       "      <td>392.45</td>\n",
       "      <td>393.38</td>\n",
       "      <td>385865</td>\n",
       "      <td>1.517907e+08</td>\n",
       "      <td>6893</td>\n",
       "      <td>63660</td>\n",
       "      <td>16.50</td>\n",
       "      <td>2017</td>\n",
       "      <td>5</td>\n",
       "      <td>0.000000</td>\n",
       "      <td>Slight or No change</td>\n",
       "    </tr>\n",
       "    <tr>\n",
       "      <th>2</th>\n",
       "      <td>MUTHOOTFIN</td>\n",
       "      <td>EQ</td>\n",
       "      <td>2017-05-16</td>\n",
       "      <td>392.45</td>\n",
       "      <td>393.65</td>\n",
       "      <td>400.95</td>\n",
       "      <td>393.25</td>\n",
       "      <td>393.45</td>\n",
       "      <td>394.80</td>\n",
       "      <td>398.01</td>\n",
       "      <td>514200</td>\n",
       "      <td>2.046578e+08</td>\n",
       "      <td>9938</td>\n",
       "      <td>100880</td>\n",
       "      <td>19.62</td>\n",
       "      <td>2017</td>\n",
       "      <td>5</td>\n",
       "      <td>0.598802</td>\n",
       "      <td>Slight positive</td>\n",
       "    </tr>\n",
       "    <tr>\n",
       "      <th>6</th>\n",
       "      <td>MUTHOOTFIN</td>\n",
       "      <td>EQ</td>\n",
       "      <td>2017-05-17</td>\n",
       "      <td>394.80</td>\n",
       "      <td>396.90</td>\n",
       "      <td>398.00</td>\n",
       "      <td>392.60</td>\n",
       "      <td>394.10</td>\n",
       "      <td>395.15</td>\n",
       "      <td>394.90</td>\n",
       "      <td>311597</td>\n",
       "      <td>1.230481e+08</td>\n",
       "      <td>6512</td>\n",
       "      <td>116484</td>\n",
       "      <td>37.38</td>\n",
       "      <td>2017</td>\n",
       "      <td>5</td>\n",
       "      <td>0.088652</td>\n",
       "      <td>Slight or No change</td>\n",
       "    </tr>\n",
       "  </tbody>\n",
       "</table>\n",
       "</div>"
      ],
      "text/plain": [
       "       Symbol Series       Date  Prev Close  Open Price  High Price  \\\n",
       "0  MUTHOOTFIN     EQ 2017-05-15      390.70      391.00      396.50   \n",
       "2  MUTHOOTFIN     EQ 2017-05-16      392.45      393.65      400.95   \n",
       "6  MUTHOOTFIN     EQ 2017-05-17      394.80      396.90      398.00   \n",
       "\n",
       "   Low Price  Last Price  Close Price  Average Price  Total Traded Quantity  \\\n",
       "0     388.50      393.00       392.45         393.38                 385865   \n",
       "2     393.25      393.45       394.80         398.01                 514200   \n",
       "6     392.60      394.10       395.15         394.90                 311597   \n",
       "\n",
       "       Turnover  No. of Trades  Deliverable Qty  % Dly Qt to Traded Qty  Year  \\\n",
       "0  1.517907e+08           6893            63660                   16.50  2017   \n",
       "2  2.046578e+08           9938           100880                   19.62  2017   \n",
       "6  1.230481e+08           6512           116484                   37.38  2017   \n",
       "\n",
       "   Month  Day_Perc_Change                Trend  \n",
       "0      5         0.000000  Slight or No change  \n",
       "2      5         0.598802      Slight positive  \n",
       "6      5         0.088652  Slight or No change  "
      ]
     },
     "execution_count": 54,
     "metadata": {},
     "output_type": "execute_result"
    }
   ],
   "source": [
    "# Checking First 3 Rows\n",
    "stock_data.head(3)"
   ]
  },
  {
   "cell_type": "markdown",
   "metadata": {},
   "source": [
    "#### 1.3.3 subtract the minimum value of the date column from the maximum value.\n",
    "\n",
    "- It will show total days between maximum and minimum of `Date` column."
   ]
  },
  {
   "cell_type": "code",
   "execution_count": 20,
   "metadata": {},
   "outputs": [
    {
     "data": {
      "text/plain": [
       "Timedelta('77 days 00:00:00')"
      ]
     },
     "execution_count": 20,
     "metadata": {},
     "output_type": "execute_result"
    }
   ],
   "source": [
    "stock_data.Date.max() - stock_data.Date.min()"
   ]
  },
  {
   "cell_type": "markdown",
   "metadata": {},
   "source": [
    "## <a id='id4'>Query 1.4</a> \n",
    "In a separate array , calculate the monthwise VWAP (Volume Weighted Average Price ) of the stock.<br>\n",
    "( VWAP = sum(price*volume)/sum(volume) )<br>\n",
    "To know more about VWAP , visit - [VWAP definition](https://www.investopedia.com/terms/v/vwap.asp)<br>\n",
    "{Hint : Create a new dataframe column ‘Month’. The values for this column can be derived from the ‘Date” column by using appropriate pandas functions. Similarly, create a column ‘Year’ and initialize it. Then use the 'groupby()' function by month and year. Finally, calculate the vwap value for each month (i.e. for each group created). "
   ]
  },
  {
   "cell_type": "code",
   "execution_count": 21,
   "metadata": {},
   "outputs": [],
   "source": [
    "# Create a new column ‘Year' in stock_data Dataframe\n",
    "stock_data['Year'] = pd.DatetimeIndex(stock_data.Date).year"
   ]
  },
  {
   "cell_type": "code",
   "execution_count": 22,
   "metadata": {},
   "outputs": [],
   "source": [
    "# Create a new column ‘Month' in stock_data Dataframe\n",
    "stock_data['Month'] = pd.DatetimeIndex(stock_data.Date).month"
   ]
  },
  {
   "cell_type": "markdown",
   "metadata": {},
   "source": [
    "#### Here\n",
    "- ####  \"`Total Traded Quantity`\" => Volume\n",
    "- #### \"`Average Price`\" => Price\n",
    "- #### \"`Turnover`\" => Price * Volume\n",
    "\n",
    "    - Product of total volume traded to the average price of a stock for the day.\n"
   ]
  },
  {
   "cell_type": "code",
   "execution_count": 55,
   "metadata": {
    "scrolled": true
   },
   "outputs": [
    {
     "data": {
      "text/html": [
       "<div>\n",
       "<style scoped>\n",
       "    .dataframe tbody tr th:only-of-type {\n",
       "        vertical-align: middle;\n",
       "    }\n",
       "\n",
       "    .dataframe tbody tr th {\n",
       "        vertical-align: top;\n",
       "    }\n",
       "\n",
       "    .dataframe thead th {\n",
       "        text-align: right;\n",
       "    }\n",
       "</style>\n",
       "<table border=\"1\" class=\"dataframe\">\n",
       "  <thead>\n",
       "    <tr style=\"text-align: right;\">\n",
       "      <th></th>\n",
       "      <th>Symbol</th>\n",
       "      <th>Series</th>\n",
       "      <th>Date</th>\n",
       "      <th>Prev Close</th>\n",
       "      <th>Open Price</th>\n",
       "      <th>High Price</th>\n",
       "      <th>Low Price</th>\n",
       "      <th>Last Price</th>\n",
       "      <th>Close Price</th>\n",
       "      <th>Average Price</th>\n",
       "      <th>Total Traded Quantity</th>\n",
       "      <th>Turnover</th>\n",
       "      <th>No. of Trades</th>\n",
       "      <th>Deliverable Qty</th>\n",
       "      <th>% Dly Qt to Traded Qty</th>\n",
       "      <th>Year</th>\n",
       "      <th>Month</th>\n",
       "      <th>Day_Perc_Change</th>\n",
       "      <th>Trend</th>\n",
       "    </tr>\n",
       "  </thead>\n",
       "  <tbody>\n",
       "    <tr>\n",
       "      <th>0</th>\n",
       "      <td>MUTHOOTFIN</td>\n",
       "      <td>EQ</td>\n",
       "      <td>2017-05-15</td>\n",
       "      <td>390.70</td>\n",
       "      <td>391.00</td>\n",
       "      <td>396.50</td>\n",
       "      <td>388.50</td>\n",
       "      <td>393.00</td>\n",
       "      <td>392.45</td>\n",
       "      <td>393.38</td>\n",
       "      <td>385865</td>\n",
       "      <td>1.517907e+08</td>\n",
       "      <td>6893</td>\n",
       "      <td>63660</td>\n",
       "      <td>16.50</td>\n",
       "      <td>2017</td>\n",
       "      <td>5</td>\n",
       "      <td>0.000000</td>\n",
       "      <td>Slight or No change</td>\n",
       "    </tr>\n",
       "    <tr>\n",
       "      <th>2</th>\n",
       "      <td>MUTHOOTFIN</td>\n",
       "      <td>EQ</td>\n",
       "      <td>2017-05-16</td>\n",
       "      <td>392.45</td>\n",
       "      <td>393.65</td>\n",
       "      <td>400.95</td>\n",
       "      <td>393.25</td>\n",
       "      <td>393.45</td>\n",
       "      <td>394.80</td>\n",
       "      <td>398.01</td>\n",
       "      <td>514200</td>\n",
       "      <td>2.046578e+08</td>\n",
       "      <td>9938</td>\n",
       "      <td>100880</td>\n",
       "      <td>19.62</td>\n",
       "      <td>2017</td>\n",
       "      <td>5</td>\n",
       "      <td>0.598802</td>\n",
       "      <td>Slight positive</td>\n",
       "    </tr>\n",
       "    <tr>\n",
       "      <th>6</th>\n",
       "      <td>MUTHOOTFIN</td>\n",
       "      <td>EQ</td>\n",
       "      <td>2017-05-17</td>\n",
       "      <td>394.80</td>\n",
       "      <td>396.90</td>\n",
       "      <td>398.00</td>\n",
       "      <td>392.60</td>\n",
       "      <td>394.10</td>\n",
       "      <td>395.15</td>\n",
       "      <td>394.90</td>\n",
       "      <td>311597</td>\n",
       "      <td>1.230481e+08</td>\n",
       "      <td>6512</td>\n",
       "      <td>116484</td>\n",
       "      <td>37.38</td>\n",
       "      <td>2017</td>\n",
       "      <td>5</td>\n",
       "      <td>0.088652</td>\n",
       "      <td>Slight or No change</td>\n",
       "    </tr>\n",
       "    <tr>\n",
       "      <th>8</th>\n",
       "      <td>MUTHOOTFIN</td>\n",
       "      <td>EQ</td>\n",
       "      <td>2017-05-18</td>\n",
       "      <td>395.15</td>\n",
       "      <td>393.00</td>\n",
       "      <td>395.45</td>\n",
       "      <td>375.10</td>\n",
       "      <td>378.85</td>\n",
       "      <td>379.20</td>\n",
       "      <td>386.45</td>\n",
       "      <td>646434</td>\n",
       "      <td>2.498119e+08</td>\n",
       "      <td>11171</td>\n",
       "      <td>238171</td>\n",
       "      <td>36.84</td>\n",
       "      <td>2017</td>\n",
       "      <td>5</td>\n",
       "      <td>-4.036442</td>\n",
       "      <td>Among top losers</td>\n",
       "    </tr>\n",
       "    <tr>\n",
       "      <th>10</th>\n",
       "      <td>MUTHOOTFIN</td>\n",
       "      <td>EQ</td>\n",
       "      <td>2017-05-19</td>\n",
       "      <td>379.20</td>\n",
       "      <td>395.00</td>\n",
       "      <td>400.90</td>\n",
       "      <td>357.45</td>\n",
       "      <td>381.00</td>\n",
       "      <td>379.15</td>\n",
       "      <td>382.13</td>\n",
       "      <td>3211995</td>\n",
       "      <td>1.227389e+09</td>\n",
       "      <td>42906</td>\n",
       "      <td>1193472</td>\n",
       "      <td>37.16</td>\n",
       "      <td>2017</td>\n",
       "      <td>5</td>\n",
       "      <td>-0.013186</td>\n",
       "      <td>Slight or No change</td>\n",
       "    </tr>\n",
       "  </tbody>\n",
       "</table>\n",
       "</div>"
      ],
      "text/plain": [
       "        Symbol Series       Date  Prev Close  Open Price  High Price  \\\n",
       "0   MUTHOOTFIN     EQ 2017-05-15      390.70      391.00      396.50   \n",
       "2   MUTHOOTFIN     EQ 2017-05-16      392.45      393.65      400.95   \n",
       "6   MUTHOOTFIN     EQ 2017-05-17      394.80      396.90      398.00   \n",
       "8   MUTHOOTFIN     EQ 2017-05-18      395.15      393.00      395.45   \n",
       "10  MUTHOOTFIN     EQ 2017-05-19      379.20      395.00      400.90   \n",
       "\n",
       "    Low Price  Last Price  Close Price  Average Price  Total Traded Quantity  \\\n",
       "0      388.50      393.00       392.45         393.38                 385865   \n",
       "2      393.25      393.45       394.80         398.01                 514200   \n",
       "6      392.60      394.10       395.15         394.90                 311597   \n",
       "8      375.10      378.85       379.20         386.45                 646434   \n",
       "10     357.45      381.00       379.15         382.13                3211995   \n",
       "\n",
       "        Turnover  No. of Trades  Deliverable Qty  % Dly Qt to Traded Qty  \\\n",
       "0   1.517907e+08           6893            63660                   16.50   \n",
       "2   2.046578e+08           9938           100880                   19.62   \n",
       "6   1.230481e+08           6512           116484                   37.38   \n",
       "8   2.498119e+08          11171           238171                   36.84   \n",
       "10  1.227389e+09          42906          1193472                   37.16   \n",
       "\n",
       "    Year  Month  Day_Perc_Change                Trend  \n",
       "0   2017      5         0.000000  Slight or No change  \n",
       "2   2017      5         0.598802      Slight positive  \n",
       "6   2017      5         0.088652  Slight or No change  \n",
       "8   2017      5        -4.036442     Among top losers  \n",
       "10  2017      5        -0.013186  Slight or No change  "
      ]
     },
     "execution_count": 55,
     "metadata": {},
     "output_type": "execute_result"
    }
   ],
   "source": [
    "stock_data.head()"
   ]
  },
  {
   "cell_type": "markdown",
   "metadata": {},
   "source": [
    "<h4 align=center>Let implement VWAP formula</h4>\n",
    "\n",
    "$$VWAP= \\frac{\\sum_{}price*volume}{\\sum_{}volume}$$\n",
    "\n",
    "$$VWAP= \\frac{\\sum_{}Turnover}{\\sum_{}Total Traded Quantity}$$"
   ]
  },
  {
   "cell_type": "code",
   "execution_count": 56,
   "metadata": {
    "scrolled": true
   },
   "outputs": [],
   "source": [
    "# VWAP_numerator\n",
    "VWAP_numerator = stock_data.groupby(by=['Year', 'Month']).Turnover.sum()"
   ]
  },
  {
   "cell_type": "code",
   "execution_count": 57,
   "metadata": {},
   "outputs": [],
   "source": [
    "# VWAP_denominator\n",
    "VWAP_denominator = stock_data.groupby(by=['Year', 'Month'])[\"Total Traded Quantity\"].sum()"
   ]
  },
  {
   "cell_type": "code",
   "execution_count": 58,
   "metadata": {},
   "outputs": [
    {
     "data": {
      "text/plain": [
       "Year  Month\n",
       "2017  5        390.089022\n",
       "      6        447.304725\n",
       "      7        466.178509\n",
       "dtype: float64"
      ]
     },
     "execution_count": 58,
     "metadata": {},
     "output_type": "execute_result"
    }
   ],
   "source": [
    "VWAP_monthwise = VWAP_numerator / VWAP_denominator\n",
    "VWAP_monthwise"
   ]
  },
  {
   "cell_type": "markdown",
   "metadata": {},
   "source": [
    "## <a id='id5'>Query 1.5</a> \n",
    "Write a function to calculate the average price over the last N days of the stock price data where N is a user defined parameter. Write a second function to calculate the profit/loss percentage over the last N days.<br>\n",
    "Calculate the average price AND the profit/loss percentages over the course of last -<br>\n",
    "1 week, 2 weeks, 1 month, 3 months, 6 months and 1 year.<br>\n",
    "{Note : Profit/Loss percentage between N days is the percentage change between the closing prices of the 2 days }"
   ]
  },
  {
   "cell_type": "markdown",
   "metadata": {},
   "source": [
    "#### 1.5.1 Writing a function to calculate the average price over the last N days of the stock price data"
   ]
  },
  {
   "cell_type": "code",
   "execution_count": 27,
   "metadata": {},
   "outputs": [],
   "source": [
    "def last_N_days_avg_price(dataframe, N):\n",
    "    \"\"\"Help on method last_N_days_avg_price:\n",
    "    \n",
    "    last_N_days_avg_price(dataframe=None, N=None)\n",
    "    This function returns the average price over the last N days of the stock price data.\n",
    "    \n",
    "    Parameters\n",
    "    ----------\n",
    "    dataframe : Dataset or Dataframe of type pd.DataFrame.\n",
    "    N : Number of days (last N days).\n",
    "    \n",
    "    Returns\n",
    "    -------\n",
    "    float64 object\n",
    "    \n",
    "    Examples\n",
    "    --------\n",
    "    >>> last_N_days_avg_price(stock_dataframe, 23)\n",
    "    734.2352173913043    \n",
    "    \"\"\"\n",
    "    return dataframe.tail(N)[\"Average Price\"].mean()"
   ]
  },
  {
   "cell_type": "code",
   "execution_count": 28,
   "metadata": {},
   "outputs": [
    {
     "data": {
      "text/plain": [
       "452.2844444444445"
      ]
     },
     "execution_count": 28,
     "metadata": {},
     "output_type": "execute_result"
    }
   ],
   "source": [
    "last_N_days_avg_price(stock_data, 45)"
   ]
  },
  {
   "cell_type": "markdown",
   "metadata": {},
   "source": [
    "#### 1.5.2 Write a second function to calculate the profit/loss percentage over the last N days."
   ]
  },
  {
   "cell_type": "markdown",
   "metadata": {},
   "source": [
    "$$Profit / Loss Percentage= \\frac{Close Price - Prev Close}{Prev Close}*100$$\n",
    "<br>\n",
    "<center># Positive Value shows Profit Percentage</center>\n",
    "<center># Negative Value shows Loss Percentage</center>"
   ]
  },
  {
   "cell_type": "code",
   "execution_count": 29,
   "metadata": {},
   "outputs": [],
   "source": [
    "def last_N_days_profit_loss_percentage(dataframe, N):\n",
    "    \"\"\"Help on method last_N_days_profit_loss_percentage:\n",
    "    \n",
    "    last_N_days_profit_loss_percentage(dataframe=None, N=None)\n",
    "    This function returns  the profit/loss percentage over the last N days of the stock price data.\n",
    "    If return is positive value, that is ``Profit Percentage``.\n",
    "    If return is Negative value, that is ``Loss Percentage``.\n",
    "    \n",
    "    Parameters\n",
    "    ----------\n",
    "    dataframe : Dataset or Dataframe of type pd.DataFrame.\n",
    "    N : Number of days (last N days).\n",
    "    \n",
    "    Returns\n",
    "    -------\n",
    "    Positive Value shows Profit Percentage.\n",
    "    Negative Value shows Loss Percentage.\n",
    "    float64 object\n",
    "    \n",
    "    Examples\n",
    "    --------\n",
    "    >>> last_N_days_profit_loss_percentage(stock_data,N=5)\n",
    "    -0.6693809951003947\n",
    "    \"\"\"\n",
    "    return ((dataframe[\"Close Price\"].iloc[-1] - dataframe[\"Close Price\"].iloc[-N])/dataframe[\"Close Price\"].iloc[-N])*100"
   ]
  },
  {
   "cell_type": "code",
   "execution_count": 30,
   "metadata": {},
   "outputs": [
    {
     "data": {
      "text/plain": [
       "1.8910497475018704"
      ]
     },
     "execution_count": 30,
     "metadata": {},
     "output_type": "execute_result"
    }
   ],
   "source": [
    "# profit/loss percentage over the last N days.\n",
    "last_N_days_profit_loss_percentage(stock_data,N=3)"
   ]
  },
  {
   "cell_type": "markdown",
   "metadata": {},
   "source": [
    "#### 1.5.3 Calculate the Average Price over the course of last :\n",
    "- 1 week, \n",
    "- 2 weeks, \n",
    "- 1 month, \n",
    "- 3 months, \n",
    "- 6 months,\n",
    "- 1 year."
   ]
  },
  {
   "cell_type": "code",
   "execution_count": 31,
   "metadata": {},
   "outputs": [],
   "source": [
    "def avg_price(dataframe, days=None, weeks=None, months=None, years=None):\n",
    "    \"\"\"Help on method avg_price:\n",
    "    \n",
    "    avg_price(dataframe, days=None, weeks=None, months=None, years=None)\n",
    "    This function returns the average price over the last N days, weeks, months and years of the stock price data.\n",
    "    \n",
    "    Parameters\n",
    "    ----------\n",
    "    dataframe : Dataset or Dataframe of type pd.DataFrame.\n",
    "    days : Number of days (last N days).\n",
    "    weeks : Number of weeks (last N weeks).\n",
    "    months : Number of months (last N months).\n",
    "    years : Number of years (last N years).\n",
    "    \n",
    "    Returns\n",
    "    -------\n",
    "    float64 object\n",
    "    \n",
    "    Examples\n",
    "    --------\n",
    "    >>> last_N_days_avg_price(stock_dataframe, days=23)\n",
    "    Average Price For 23 days. \n",
    "    ----------\n",
    "    734.2352173913043 \n",
    "    \n",
    "    >>> avg_price(stock_data, weeks=1)\n",
    "    Average Price For 1 week. \n",
    "    ----------\n",
    "    721.722\n",
    "    \"\"\"\n",
    "    if days:\n",
    "        print(\"Average Price For\",days,\"day.\" if days==1 else \"days.\",\"\\n\",'-'*10)\n",
    "        return last_N_days_avg_price(dataframe, days)\n",
    "    \n",
    "    elif weeks:\n",
    "        print(\"Average Price For\",weeks,\"week.\" if weeks==1 else \"weeks.\",\"\\n\",'-'*10)\n",
    "        day = weeks * 5\n",
    "        return last_N_days_avg_price(dataframe, day)\n",
    "    \n",
    "    elif months:\n",
    "        print(\"Average Price For\",months,\"month.\" if months==1 else \"months.\",\"\\n\",'-'*10)\n",
    "        day = months * 21\n",
    "        return last_N_days_avg_price(dataframe, day)\n",
    "        \n",
    "    elif years:\n",
    "        print(\"Average Price For\",years,\"year.\" if years==1 else \"years.\",\"\\n\",'-'*10)\n",
    "        day = years * 252\n",
    "        return last_N_days_avg_price(dataframe, day)"
   ]
  },
  {
   "cell_type": "code",
   "execution_count": 32,
   "metadata": {},
   "outputs": [
    {
     "name": "stdout",
     "output_type": "stream",
     "text": [
      "Average Price For 1 week. \n",
      " ----------\n"
     ]
    },
    {
     "data": {
      "text/plain": [
       "471.22799999999995"
      ]
     },
     "execution_count": 32,
     "metadata": {},
     "output_type": "execute_result"
    }
   ],
   "source": [
    "# 1 week\n",
    "avg_price(stock_data, weeks=1)"
   ]
  },
  {
   "cell_type": "code",
   "execution_count": 33,
   "metadata": {},
   "outputs": [
    {
     "name": "stdout",
     "output_type": "stream",
     "text": [
      "Average Price For 2 weeks. \n",
      " ----------\n"
     ]
    },
    {
     "data": {
      "text/plain": [
       "468.128"
      ]
     },
     "execution_count": 33,
     "metadata": {},
     "output_type": "execute_result"
    }
   ],
   "source": [
    "# 2 week\n",
    "avg_price(stock_data, weeks=2)"
   ]
  },
  {
   "cell_type": "code",
   "execution_count": 34,
   "metadata": {},
   "outputs": [
    {
     "name": "stdout",
     "output_type": "stream",
     "text": [
      "Average Price For 1 month. \n",
      " ----------\n"
     ]
    },
    {
     "data": {
      "text/plain": [
       "462.68333333333334"
      ]
     },
     "execution_count": 34,
     "metadata": {},
     "output_type": "execute_result"
    }
   ],
   "source": [
    "# 1 month\n",
    "avg_price(stock_data, months=1)"
   ]
  },
  {
   "cell_type": "code",
   "execution_count": 35,
   "metadata": {
    "scrolled": true
   },
   "outputs": [
    {
     "name": "stdout",
     "output_type": "stream",
     "text": [
      "Average Price For 3 months. \n",
      " ----------\n"
     ]
    },
    {
     "data": {
      "text/plain": [
       "440.98181818181826"
      ]
     },
     "execution_count": 35,
     "metadata": {},
     "output_type": "execute_result"
    }
   ],
   "source": [
    "# 3 months\n",
    "avg_price(stock_data, months=3)"
   ]
  },
  {
   "cell_type": "code",
   "execution_count": 36,
   "metadata": {},
   "outputs": [
    {
     "name": "stdout",
     "output_type": "stream",
     "text": [
      "Average Price For 6 months. \n",
      " ----------\n"
     ]
    },
    {
     "data": {
      "text/plain": [
       "440.98181818181826"
      ]
     },
     "execution_count": 36,
     "metadata": {},
     "output_type": "execute_result"
    }
   ],
   "source": [
    "# 6 months\n",
    "avg_price(stock_data, months=6)"
   ]
  },
  {
   "cell_type": "code",
   "execution_count": 37,
   "metadata": {
    "scrolled": true
   },
   "outputs": [
    {
     "name": "stdout",
     "output_type": "stream",
     "text": [
      "Average Price For 1 year. \n",
      " ----------\n"
     ]
    },
    {
     "data": {
      "text/plain": [
       "440.98181818181826"
      ]
     },
     "execution_count": 37,
     "metadata": {},
     "output_type": "execute_result"
    }
   ],
   "source": [
    "# 1 year\n",
    "avg_price(stock_data, years=1)"
   ]
  },
  {
   "cell_type": "markdown",
   "metadata": {},
   "source": [
    "#### 1.5.4 Calculate the Profit/Loss Percentages over the course of last :\n",
    "- 1 week, \n",
    "- 2 weeks, \n",
    "- 1 month, \n",
    "- 3 months, \n",
    "- 6 months,\n",
    "- 1 year."
   ]
  },
  {
   "cell_type": "code",
   "execution_count": 38,
   "metadata": {},
   "outputs": [],
   "source": [
    "def profit_loss_percentage(dataframe, days=None, weeks=None, months=None, years=None):\n",
    "    \"\"\"Help on method profit_loss_percentage:\n",
    "    \n",
    "    profit_loss_percentage(dataframe, days=None, weeks=None, months=None, years=None)\n",
    "    This function returns  the profit/loss percentage over the last N days, weeks, months and years of the stock price data.\n",
    "    If return is positive value, that is ``Profit Percentage``.\n",
    "    If return is Negative value, that is ``Loss Percentage``.\n",
    "    \n",
    "    Parameters\n",
    "    ----------\n",
    "    dataframe : Dataset or Dataframe of type pd.DataFrame.\n",
    "    days : Number of days (last N days).\n",
    "    weeks : Number of weeks (last N weeks).\n",
    "    months : Number of months (last N months).\n",
    "    years : Number of years (last N years).\n",
    "    \n",
    "    Returns\n",
    "    -------\n",
    "    Positive Value shows Profit Percentage.\n",
    "    Negative Value shows Loss Percentage.\n",
    "    float64 object\n",
    "    \n",
    "    Examples\n",
    "    --------\n",
    "    >>> profit_loss_percentage(stock_data,days=3)\n",
    "    -0.18722696068232567\n",
    "\n",
    "    >>> profit_loss_percentage(stock_data,weeks=1)\n",
    "    -0.6693809951003947\n",
    "    \"\"\"\n",
    "    if days:\n",
    "        print(\"Profit/Loss Percentage For\",days,\"day.\" if days==1 else \"days.\",\"\\n\",'-'*10)\n",
    "        return last_N_days_profit_loss_percentage(dataframe, days)\n",
    "    \n",
    "    elif weeks:\n",
    "        print(\"Profit/Loss Percentage For\",weeks,\"week.\" if weeks==1 else \"weeks.\",\"\\n\",'-'*10)\n",
    "        day = weeks * 5\n",
    "        return last_N_days_profit_loss_percentage(dataframe, day)\n",
    "    \n",
    "    elif months:\n",
    "        print(\"Profit/Loss Percentage For\",months,\"month.\" if months==1 else \"months.\",\"\\n\",'-'*10)\n",
    "        day = months * 21\n",
    "        return last_N_days_profit_loss_percentage(dataframe, day)\n",
    "        \n",
    "    elif years:\n",
    "        print(\"Profit/Loss Percentage For\",years,\"year.\" if years==1 else \"years.\",\"\\n\",'-'*10)\n",
    "        day = years * 252\n",
    "        return last_N_days_profit_loss_percentage(dataframe, day)"
   ]
  },
  {
   "cell_type": "code",
   "execution_count": 39,
   "metadata": {},
   "outputs": [
    {
     "name": "stdout",
     "output_type": "stream",
     "text": [
      "Profit/Loss Percentage For 1 week. \n",
      " ----------\n"
     ]
    },
    {
     "data": {
      "text/plain": [
       "1.7598454769825065"
      ]
     },
     "execution_count": 39,
     "metadata": {},
     "output_type": "execute_result"
    }
   ],
   "source": [
    "# 1 week\n",
    "profit_loss_percentage(stock_data, weeks=1)"
   ]
  },
  {
   "cell_type": "code",
   "execution_count": 40,
   "metadata": {},
   "outputs": [
    {
     "name": "stdout",
     "output_type": "stream",
     "text": [
      "Profit/Loss Percentage For 2 weeks. \n",
      " ----------\n"
     ]
    },
    {
     "data": {
      "text/plain": [
       "1.1196417146513116"
      ]
     },
     "execution_count": 40,
     "metadata": {},
     "output_type": "execute_result"
    }
   ],
   "source": [
    "# 2 weeks\n",
    "profit_loss_percentage(stock_data, weeks=2)"
   ]
  },
  {
   "cell_type": "code",
   "execution_count": 41,
   "metadata": {
    "scrolled": true
   },
   "outputs": [
    {
     "name": "stdout",
     "output_type": "stream",
     "text": [
      "Profit/Loss Percentage For 1 month. \n",
      " ----------\n"
     ]
    },
    {
     "data": {
      "text/plain": [
       "3.854999452414843"
      ]
     },
     "execution_count": 41,
     "metadata": {},
     "output_type": "execute_result"
    }
   ],
   "source": [
    "# 1 month\n",
    "profit_loss_percentage(stock_data, months=1)"
   ]
  },
  {
   "cell_type": "code",
   "execution_count": 42,
   "metadata": {},
   "outputs": [
    {
     "name": "stdout",
     "output_type": "stream",
     "text": [
      "Profit/Loss Percentage For 3 months. \n",
      " ----------\n"
     ]
    },
    {
     "ename": "IndexError",
     "evalue": "single positional indexer is out-of-bounds",
     "output_type": "error",
     "traceback": [
      "\u001b[1;31m---------------------------------------------------------------------------\u001b[0m",
      "\u001b[1;31mIndexError\u001b[0m                                Traceback (most recent call last)",
      "Cell \u001b[1;32mIn[42], line 2\u001b[0m\n\u001b[0;32m      1\u001b[0m \u001b[38;5;66;03m# 3 months\u001b[39;00m\n\u001b[1;32m----> 2\u001b[0m \u001b[43mprofit_loss_percentage\u001b[49m\u001b[43m(\u001b[49m\u001b[43mstock_data\u001b[49m\u001b[43m,\u001b[49m\u001b[43m \u001b[49m\u001b[43mmonths\u001b[49m\u001b[38;5;241;43m=\u001b[39;49m\u001b[38;5;241;43m3\u001b[39;49m\u001b[43m)\u001b[49m\n",
      "Cell \u001b[1;32mIn[38], line 43\u001b[0m, in \u001b[0;36mprofit_loss_percentage\u001b[1;34m(dataframe, days, weeks, months, years)\u001b[0m\n\u001b[0;32m     41\u001b[0m     \u001b[38;5;28mprint\u001b[39m(\u001b[38;5;124m\"\u001b[39m\u001b[38;5;124mProfit/Loss Percentage For\u001b[39m\u001b[38;5;124m\"\u001b[39m,months,\u001b[38;5;124m\"\u001b[39m\u001b[38;5;124mmonth.\u001b[39m\u001b[38;5;124m\"\u001b[39m \u001b[38;5;28;01mif\u001b[39;00m months\u001b[38;5;241m==\u001b[39m\u001b[38;5;241m1\u001b[39m \u001b[38;5;28;01melse\u001b[39;00m \u001b[38;5;124m\"\u001b[39m\u001b[38;5;124mmonths.\u001b[39m\u001b[38;5;124m\"\u001b[39m,\u001b[38;5;124m\"\u001b[39m\u001b[38;5;130;01m\\n\u001b[39;00m\u001b[38;5;124m\"\u001b[39m,\u001b[38;5;124m'\u001b[39m\u001b[38;5;124m-\u001b[39m\u001b[38;5;124m'\u001b[39m\u001b[38;5;241m*\u001b[39m\u001b[38;5;241m10\u001b[39m)\n\u001b[0;32m     42\u001b[0m     day \u001b[38;5;241m=\u001b[39m months \u001b[38;5;241m*\u001b[39m \u001b[38;5;241m21\u001b[39m\n\u001b[1;32m---> 43\u001b[0m     \u001b[38;5;28;01mreturn\u001b[39;00m \u001b[43mlast_N_days_profit_loss_percentage\u001b[49m\u001b[43m(\u001b[49m\u001b[43mdataframe\u001b[49m\u001b[43m,\u001b[49m\u001b[43m \u001b[49m\u001b[43mday\u001b[49m\u001b[43m)\u001b[49m\n\u001b[0;32m     45\u001b[0m \u001b[38;5;28;01melif\u001b[39;00m years:\n\u001b[0;32m     46\u001b[0m     \u001b[38;5;28mprint\u001b[39m(\u001b[38;5;124m\"\u001b[39m\u001b[38;5;124mProfit/Loss Percentage For\u001b[39m\u001b[38;5;124m\"\u001b[39m,years,\u001b[38;5;124m\"\u001b[39m\u001b[38;5;124myear.\u001b[39m\u001b[38;5;124m\"\u001b[39m \u001b[38;5;28;01mif\u001b[39;00m years\u001b[38;5;241m==\u001b[39m\u001b[38;5;241m1\u001b[39m \u001b[38;5;28;01melse\u001b[39;00m \u001b[38;5;124m\"\u001b[39m\u001b[38;5;124myears.\u001b[39m\u001b[38;5;124m\"\u001b[39m,\u001b[38;5;124m\"\u001b[39m\u001b[38;5;130;01m\\n\u001b[39;00m\u001b[38;5;124m\"\u001b[39m,\u001b[38;5;124m'\u001b[39m\u001b[38;5;124m-\u001b[39m\u001b[38;5;124m'\u001b[39m\u001b[38;5;241m*\u001b[39m\u001b[38;5;241m10\u001b[39m)\n",
      "Cell \u001b[1;32mIn[29], line 25\u001b[0m, in \u001b[0;36mlast_N_days_profit_loss_percentage\u001b[1;34m(dataframe, N)\u001b[0m\n\u001b[0;32m      1\u001b[0m \u001b[38;5;28;01mdef\u001b[39;00m \u001b[38;5;21mlast_N_days_profit_loss_percentage\u001b[39m(dataframe, N):\n\u001b[0;32m      2\u001b[0m \u001b[38;5;250m    \u001b[39m\u001b[38;5;124;03m\"\"\"Help on method last_N_days_profit_loss_percentage:\u001b[39;00m\n\u001b[0;32m      3\u001b[0m \u001b[38;5;124;03m    \u001b[39;00m\n\u001b[0;32m      4\u001b[0m \u001b[38;5;124;03m    last_N_days_profit_loss_percentage(dataframe=None, N=None)\u001b[39;00m\n\u001b[1;32m   (...)\u001b[0m\n\u001b[0;32m     23\u001b[0m \u001b[38;5;124;03m    -0.6693809951003947\u001b[39;00m\n\u001b[0;32m     24\u001b[0m \u001b[38;5;124;03m    \"\"\"\u001b[39;00m\n\u001b[1;32m---> 25\u001b[0m     \u001b[38;5;28;01mreturn\u001b[39;00m ((dataframe[\u001b[38;5;124m\"\u001b[39m\u001b[38;5;124mClose Price\u001b[39m\u001b[38;5;124m\"\u001b[39m]\u001b[38;5;241m.\u001b[39miloc[\u001b[38;5;241m-\u001b[39m\u001b[38;5;241m1\u001b[39m] \u001b[38;5;241m-\u001b[39m \u001b[43mdataframe\u001b[49m\u001b[43m[\u001b[49m\u001b[38;5;124;43m\"\u001b[39;49m\u001b[38;5;124;43mClose Price\u001b[39;49m\u001b[38;5;124;43m\"\u001b[39;49m\u001b[43m]\u001b[49m\u001b[38;5;241;43m.\u001b[39;49m\u001b[43miloc\u001b[49m\u001b[43m[\u001b[49m\u001b[38;5;241;43m-\u001b[39;49m\u001b[43mN\u001b[49m\u001b[43m]\u001b[49m)\u001b[38;5;241m/\u001b[39mdataframe[\u001b[38;5;124m\"\u001b[39m\u001b[38;5;124mClose Price\u001b[39m\u001b[38;5;124m\"\u001b[39m]\u001b[38;5;241m.\u001b[39miloc[\u001b[38;5;241m-\u001b[39mN])\u001b[38;5;241m*\u001b[39m\u001b[38;5;241m100\u001b[39m\n",
      "File \u001b[1;32m~\\AppData\\Roaming\\Python\\Python311\\site-packages\\pandas\\core\\indexing.py:1103\u001b[0m, in \u001b[0;36m_LocationIndexer.__getitem__\u001b[1;34m(self, key)\u001b[0m\n\u001b[0;32m   1100\u001b[0m axis \u001b[38;5;241m=\u001b[39m \u001b[38;5;28mself\u001b[39m\u001b[38;5;241m.\u001b[39maxis \u001b[38;5;129;01mor\u001b[39;00m \u001b[38;5;241m0\u001b[39m\n\u001b[0;32m   1102\u001b[0m maybe_callable \u001b[38;5;241m=\u001b[39m com\u001b[38;5;241m.\u001b[39mapply_if_callable(key, \u001b[38;5;28mself\u001b[39m\u001b[38;5;241m.\u001b[39mobj)\n\u001b[1;32m-> 1103\u001b[0m \u001b[38;5;28;01mreturn\u001b[39;00m \u001b[38;5;28;43mself\u001b[39;49m\u001b[38;5;241;43m.\u001b[39;49m\u001b[43m_getitem_axis\u001b[49m\u001b[43m(\u001b[49m\u001b[43mmaybe_callable\u001b[49m\u001b[43m,\u001b[49m\u001b[43m \u001b[49m\u001b[43maxis\u001b[49m\u001b[38;5;241;43m=\u001b[39;49m\u001b[43maxis\u001b[49m\u001b[43m)\u001b[49m\n",
      "File \u001b[1;32m~\\AppData\\Roaming\\Python\\Python311\\site-packages\\pandas\\core\\indexing.py:1656\u001b[0m, in \u001b[0;36m_iLocIndexer._getitem_axis\u001b[1;34m(self, key, axis)\u001b[0m\n\u001b[0;32m   1653\u001b[0m     \u001b[38;5;28;01mraise\u001b[39;00m \u001b[38;5;167;01mTypeError\u001b[39;00m(\u001b[38;5;124m\"\u001b[39m\u001b[38;5;124mCannot index by location index with a non-integer key\u001b[39m\u001b[38;5;124m\"\u001b[39m)\n\u001b[0;32m   1655\u001b[0m \u001b[38;5;66;03m# validate the location\u001b[39;00m\n\u001b[1;32m-> 1656\u001b[0m \u001b[38;5;28;43mself\u001b[39;49m\u001b[38;5;241;43m.\u001b[39;49m\u001b[43m_validate_integer\u001b[49m\u001b[43m(\u001b[49m\u001b[43mkey\u001b[49m\u001b[43m,\u001b[49m\u001b[43m \u001b[49m\u001b[43maxis\u001b[49m\u001b[43m)\u001b[49m\n\u001b[0;32m   1658\u001b[0m \u001b[38;5;28;01mreturn\u001b[39;00m \u001b[38;5;28mself\u001b[39m\u001b[38;5;241m.\u001b[39mobj\u001b[38;5;241m.\u001b[39m_ixs(key, axis\u001b[38;5;241m=\u001b[39maxis)\n",
      "File \u001b[1;32m~\\AppData\\Roaming\\Python\\Python311\\site-packages\\pandas\\core\\indexing.py:1589\u001b[0m, in \u001b[0;36m_iLocIndexer._validate_integer\u001b[1;34m(self, key, axis)\u001b[0m\n\u001b[0;32m   1587\u001b[0m len_axis \u001b[38;5;241m=\u001b[39m \u001b[38;5;28mlen\u001b[39m(\u001b[38;5;28mself\u001b[39m\u001b[38;5;241m.\u001b[39mobj\u001b[38;5;241m.\u001b[39m_get_axis(axis))\n\u001b[0;32m   1588\u001b[0m \u001b[38;5;28;01mif\u001b[39;00m key \u001b[38;5;241m>\u001b[39m\u001b[38;5;241m=\u001b[39m len_axis \u001b[38;5;129;01mor\u001b[39;00m key \u001b[38;5;241m<\u001b[39m \u001b[38;5;241m-\u001b[39mlen_axis:\n\u001b[1;32m-> 1589\u001b[0m     \u001b[38;5;28;01mraise\u001b[39;00m \u001b[38;5;167;01mIndexError\u001b[39;00m(\u001b[38;5;124m\"\u001b[39m\u001b[38;5;124msingle positional indexer is out-of-bounds\u001b[39m\u001b[38;5;124m\"\u001b[39m)\n",
      "\u001b[1;31mIndexError\u001b[0m: single positional indexer is out-of-bounds"
     ]
    }
   ],
   "source": [
    "# 3 months\n",
    "profit_loss_percentage(stock_data, months=3)"
   ]
  },
  {
   "cell_type": "code",
   "execution_count": 43,
   "metadata": {},
   "outputs": [
    {
     "name": "stdout",
     "output_type": "stream",
     "text": [
      "Profit/Loss Percentage For 6 months. \n",
      " ----------\n"
     ]
    },
    {
     "ename": "IndexError",
     "evalue": "single positional indexer is out-of-bounds",
     "output_type": "error",
     "traceback": [
      "\u001b[1;31m---------------------------------------------------------------------------\u001b[0m",
      "\u001b[1;31mIndexError\u001b[0m                                Traceback (most recent call last)",
      "Cell \u001b[1;32mIn[43], line 2\u001b[0m\n\u001b[0;32m      1\u001b[0m \u001b[38;5;66;03m# 6 months\u001b[39;00m\n\u001b[1;32m----> 2\u001b[0m \u001b[43mprofit_loss_percentage\u001b[49m\u001b[43m(\u001b[49m\u001b[43mstock_data\u001b[49m\u001b[43m,\u001b[49m\u001b[43m \u001b[49m\u001b[43mmonths\u001b[49m\u001b[38;5;241;43m=\u001b[39;49m\u001b[38;5;241;43m6\u001b[39;49m\u001b[43m)\u001b[49m\n",
      "Cell \u001b[1;32mIn[38], line 43\u001b[0m, in \u001b[0;36mprofit_loss_percentage\u001b[1;34m(dataframe, days, weeks, months, years)\u001b[0m\n\u001b[0;32m     41\u001b[0m     \u001b[38;5;28mprint\u001b[39m(\u001b[38;5;124m\"\u001b[39m\u001b[38;5;124mProfit/Loss Percentage For\u001b[39m\u001b[38;5;124m\"\u001b[39m,months,\u001b[38;5;124m\"\u001b[39m\u001b[38;5;124mmonth.\u001b[39m\u001b[38;5;124m\"\u001b[39m \u001b[38;5;28;01mif\u001b[39;00m months\u001b[38;5;241m==\u001b[39m\u001b[38;5;241m1\u001b[39m \u001b[38;5;28;01melse\u001b[39;00m \u001b[38;5;124m\"\u001b[39m\u001b[38;5;124mmonths.\u001b[39m\u001b[38;5;124m\"\u001b[39m,\u001b[38;5;124m\"\u001b[39m\u001b[38;5;130;01m\\n\u001b[39;00m\u001b[38;5;124m\"\u001b[39m,\u001b[38;5;124m'\u001b[39m\u001b[38;5;124m-\u001b[39m\u001b[38;5;124m'\u001b[39m\u001b[38;5;241m*\u001b[39m\u001b[38;5;241m10\u001b[39m)\n\u001b[0;32m     42\u001b[0m     day \u001b[38;5;241m=\u001b[39m months \u001b[38;5;241m*\u001b[39m \u001b[38;5;241m21\u001b[39m\n\u001b[1;32m---> 43\u001b[0m     \u001b[38;5;28;01mreturn\u001b[39;00m \u001b[43mlast_N_days_profit_loss_percentage\u001b[49m\u001b[43m(\u001b[49m\u001b[43mdataframe\u001b[49m\u001b[43m,\u001b[49m\u001b[43m \u001b[49m\u001b[43mday\u001b[49m\u001b[43m)\u001b[49m\n\u001b[0;32m     45\u001b[0m \u001b[38;5;28;01melif\u001b[39;00m years:\n\u001b[0;32m     46\u001b[0m     \u001b[38;5;28mprint\u001b[39m(\u001b[38;5;124m\"\u001b[39m\u001b[38;5;124mProfit/Loss Percentage For\u001b[39m\u001b[38;5;124m\"\u001b[39m,years,\u001b[38;5;124m\"\u001b[39m\u001b[38;5;124myear.\u001b[39m\u001b[38;5;124m\"\u001b[39m \u001b[38;5;28;01mif\u001b[39;00m years\u001b[38;5;241m==\u001b[39m\u001b[38;5;241m1\u001b[39m \u001b[38;5;28;01melse\u001b[39;00m \u001b[38;5;124m\"\u001b[39m\u001b[38;5;124myears.\u001b[39m\u001b[38;5;124m\"\u001b[39m,\u001b[38;5;124m\"\u001b[39m\u001b[38;5;130;01m\\n\u001b[39;00m\u001b[38;5;124m\"\u001b[39m,\u001b[38;5;124m'\u001b[39m\u001b[38;5;124m-\u001b[39m\u001b[38;5;124m'\u001b[39m\u001b[38;5;241m*\u001b[39m\u001b[38;5;241m10\u001b[39m)\n",
      "Cell \u001b[1;32mIn[29], line 25\u001b[0m, in \u001b[0;36mlast_N_days_profit_loss_percentage\u001b[1;34m(dataframe, N)\u001b[0m\n\u001b[0;32m      1\u001b[0m \u001b[38;5;28;01mdef\u001b[39;00m \u001b[38;5;21mlast_N_days_profit_loss_percentage\u001b[39m(dataframe, N):\n\u001b[0;32m      2\u001b[0m \u001b[38;5;250m    \u001b[39m\u001b[38;5;124;03m\"\"\"Help on method last_N_days_profit_loss_percentage:\u001b[39;00m\n\u001b[0;32m      3\u001b[0m \u001b[38;5;124;03m    \u001b[39;00m\n\u001b[0;32m      4\u001b[0m \u001b[38;5;124;03m    last_N_days_profit_loss_percentage(dataframe=None, N=None)\u001b[39;00m\n\u001b[1;32m   (...)\u001b[0m\n\u001b[0;32m     23\u001b[0m \u001b[38;5;124;03m    -0.6693809951003947\u001b[39;00m\n\u001b[0;32m     24\u001b[0m \u001b[38;5;124;03m    \"\"\"\u001b[39;00m\n\u001b[1;32m---> 25\u001b[0m     \u001b[38;5;28;01mreturn\u001b[39;00m ((dataframe[\u001b[38;5;124m\"\u001b[39m\u001b[38;5;124mClose Price\u001b[39m\u001b[38;5;124m\"\u001b[39m]\u001b[38;5;241m.\u001b[39miloc[\u001b[38;5;241m-\u001b[39m\u001b[38;5;241m1\u001b[39m] \u001b[38;5;241m-\u001b[39m \u001b[43mdataframe\u001b[49m\u001b[43m[\u001b[49m\u001b[38;5;124;43m\"\u001b[39;49m\u001b[38;5;124;43mClose Price\u001b[39;49m\u001b[38;5;124;43m\"\u001b[39;49m\u001b[43m]\u001b[49m\u001b[38;5;241;43m.\u001b[39;49m\u001b[43miloc\u001b[49m\u001b[43m[\u001b[49m\u001b[38;5;241;43m-\u001b[39;49m\u001b[43mN\u001b[49m\u001b[43m]\u001b[49m)\u001b[38;5;241m/\u001b[39mdataframe[\u001b[38;5;124m\"\u001b[39m\u001b[38;5;124mClose Price\u001b[39m\u001b[38;5;124m\"\u001b[39m]\u001b[38;5;241m.\u001b[39miloc[\u001b[38;5;241m-\u001b[39mN])\u001b[38;5;241m*\u001b[39m\u001b[38;5;241m100\u001b[39m\n",
      "File \u001b[1;32m~\\AppData\\Roaming\\Python\\Python311\\site-packages\\pandas\\core\\indexing.py:1103\u001b[0m, in \u001b[0;36m_LocationIndexer.__getitem__\u001b[1;34m(self, key)\u001b[0m\n\u001b[0;32m   1100\u001b[0m axis \u001b[38;5;241m=\u001b[39m \u001b[38;5;28mself\u001b[39m\u001b[38;5;241m.\u001b[39maxis \u001b[38;5;129;01mor\u001b[39;00m \u001b[38;5;241m0\u001b[39m\n\u001b[0;32m   1102\u001b[0m maybe_callable \u001b[38;5;241m=\u001b[39m com\u001b[38;5;241m.\u001b[39mapply_if_callable(key, \u001b[38;5;28mself\u001b[39m\u001b[38;5;241m.\u001b[39mobj)\n\u001b[1;32m-> 1103\u001b[0m \u001b[38;5;28;01mreturn\u001b[39;00m \u001b[38;5;28;43mself\u001b[39;49m\u001b[38;5;241;43m.\u001b[39;49m\u001b[43m_getitem_axis\u001b[49m\u001b[43m(\u001b[49m\u001b[43mmaybe_callable\u001b[49m\u001b[43m,\u001b[49m\u001b[43m \u001b[49m\u001b[43maxis\u001b[49m\u001b[38;5;241;43m=\u001b[39;49m\u001b[43maxis\u001b[49m\u001b[43m)\u001b[49m\n",
      "File \u001b[1;32m~\\AppData\\Roaming\\Python\\Python311\\site-packages\\pandas\\core\\indexing.py:1656\u001b[0m, in \u001b[0;36m_iLocIndexer._getitem_axis\u001b[1;34m(self, key, axis)\u001b[0m\n\u001b[0;32m   1653\u001b[0m     \u001b[38;5;28;01mraise\u001b[39;00m \u001b[38;5;167;01mTypeError\u001b[39;00m(\u001b[38;5;124m\"\u001b[39m\u001b[38;5;124mCannot index by location index with a non-integer key\u001b[39m\u001b[38;5;124m\"\u001b[39m)\n\u001b[0;32m   1655\u001b[0m \u001b[38;5;66;03m# validate the location\u001b[39;00m\n\u001b[1;32m-> 1656\u001b[0m \u001b[38;5;28;43mself\u001b[39;49m\u001b[38;5;241;43m.\u001b[39;49m\u001b[43m_validate_integer\u001b[49m\u001b[43m(\u001b[49m\u001b[43mkey\u001b[49m\u001b[43m,\u001b[49m\u001b[43m \u001b[49m\u001b[43maxis\u001b[49m\u001b[43m)\u001b[49m\n\u001b[0;32m   1658\u001b[0m \u001b[38;5;28;01mreturn\u001b[39;00m \u001b[38;5;28mself\u001b[39m\u001b[38;5;241m.\u001b[39mobj\u001b[38;5;241m.\u001b[39m_ixs(key, axis\u001b[38;5;241m=\u001b[39maxis)\n",
      "File \u001b[1;32m~\\AppData\\Roaming\\Python\\Python311\\site-packages\\pandas\\core\\indexing.py:1589\u001b[0m, in \u001b[0;36m_iLocIndexer._validate_integer\u001b[1;34m(self, key, axis)\u001b[0m\n\u001b[0;32m   1587\u001b[0m len_axis \u001b[38;5;241m=\u001b[39m \u001b[38;5;28mlen\u001b[39m(\u001b[38;5;28mself\u001b[39m\u001b[38;5;241m.\u001b[39mobj\u001b[38;5;241m.\u001b[39m_get_axis(axis))\n\u001b[0;32m   1588\u001b[0m \u001b[38;5;28;01mif\u001b[39;00m key \u001b[38;5;241m>\u001b[39m\u001b[38;5;241m=\u001b[39m len_axis \u001b[38;5;129;01mor\u001b[39;00m key \u001b[38;5;241m<\u001b[39m \u001b[38;5;241m-\u001b[39mlen_axis:\n\u001b[1;32m-> 1589\u001b[0m     \u001b[38;5;28;01mraise\u001b[39;00m \u001b[38;5;167;01mIndexError\u001b[39;00m(\u001b[38;5;124m\"\u001b[39m\u001b[38;5;124msingle positional indexer is out-of-bounds\u001b[39m\u001b[38;5;124m\"\u001b[39m)\n",
      "\u001b[1;31mIndexError\u001b[0m: single positional indexer is out-of-bounds"
     ]
    }
   ],
   "source": [
    "# 6 months\n",
    "profit_loss_percentage(stock_data, months=6)"
   ]
  },
  {
   "cell_type": "code",
   "execution_count": 44,
   "metadata": {
    "scrolled": true
   },
   "outputs": [
    {
     "name": "stdout",
     "output_type": "stream",
     "text": [
      "Profit/Loss Percentage For 1 year. \n",
      " ----------\n"
     ]
    },
    {
     "ename": "IndexError",
     "evalue": "single positional indexer is out-of-bounds",
     "output_type": "error",
     "traceback": [
      "\u001b[1;31m---------------------------------------------------------------------------\u001b[0m",
      "\u001b[1;31mIndexError\u001b[0m                                Traceback (most recent call last)",
      "Cell \u001b[1;32mIn[44], line 2\u001b[0m\n\u001b[0;32m      1\u001b[0m \u001b[38;5;66;03m# 1 year\u001b[39;00m\n\u001b[1;32m----> 2\u001b[0m \u001b[43mprofit_loss_percentage\u001b[49m\u001b[43m(\u001b[49m\u001b[43mstock_data\u001b[49m\u001b[43m,\u001b[49m\u001b[43m \u001b[49m\u001b[43myears\u001b[49m\u001b[38;5;241;43m=\u001b[39;49m\u001b[38;5;241;43m1\u001b[39;49m\u001b[43m)\u001b[49m\n",
      "Cell \u001b[1;32mIn[38], line 48\u001b[0m, in \u001b[0;36mprofit_loss_percentage\u001b[1;34m(dataframe, days, weeks, months, years)\u001b[0m\n\u001b[0;32m     46\u001b[0m \u001b[38;5;28mprint\u001b[39m(\u001b[38;5;124m\"\u001b[39m\u001b[38;5;124mProfit/Loss Percentage For\u001b[39m\u001b[38;5;124m\"\u001b[39m,years,\u001b[38;5;124m\"\u001b[39m\u001b[38;5;124myear.\u001b[39m\u001b[38;5;124m\"\u001b[39m \u001b[38;5;28;01mif\u001b[39;00m years\u001b[38;5;241m==\u001b[39m\u001b[38;5;241m1\u001b[39m \u001b[38;5;28;01melse\u001b[39;00m \u001b[38;5;124m\"\u001b[39m\u001b[38;5;124myears.\u001b[39m\u001b[38;5;124m\"\u001b[39m,\u001b[38;5;124m\"\u001b[39m\u001b[38;5;130;01m\\n\u001b[39;00m\u001b[38;5;124m\"\u001b[39m,\u001b[38;5;124m'\u001b[39m\u001b[38;5;124m-\u001b[39m\u001b[38;5;124m'\u001b[39m\u001b[38;5;241m*\u001b[39m\u001b[38;5;241m10\u001b[39m)\n\u001b[0;32m     47\u001b[0m day \u001b[38;5;241m=\u001b[39m years \u001b[38;5;241m*\u001b[39m \u001b[38;5;241m252\u001b[39m\n\u001b[1;32m---> 48\u001b[0m \u001b[38;5;28;01mreturn\u001b[39;00m \u001b[43mlast_N_days_profit_loss_percentage\u001b[49m\u001b[43m(\u001b[49m\u001b[43mdataframe\u001b[49m\u001b[43m,\u001b[49m\u001b[43m \u001b[49m\u001b[43mday\u001b[49m\u001b[43m)\u001b[49m\n",
      "Cell \u001b[1;32mIn[29], line 25\u001b[0m, in \u001b[0;36mlast_N_days_profit_loss_percentage\u001b[1;34m(dataframe, N)\u001b[0m\n\u001b[0;32m      1\u001b[0m \u001b[38;5;28;01mdef\u001b[39;00m \u001b[38;5;21mlast_N_days_profit_loss_percentage\u001b[39m(dataframe, N):\n\u001b[0;32m      2\u001b[0m \u001b[38;5;250m    \u001b[39m\u001b[38;5;124;03m\"\"\"Help on method last_N_days_profit_loss_percentage:\u001b[39;00m\n\u001b[0;32m      3\u001b[0m \u001b[38;5;124;03m    \u001b[39;00m\n\u001b[0;32m      4\u001b[0m \u001b[38;5;124;03m    last_N_days_profit_loss_percentage(dataframe=None, N=None)\u001b[39;00m\n\u001b[1;32m   (...)\u001b[0m\n\u001b[0;32m     23\u001b[0m \u001b[38;5;124;03m    -0.6693809951003947\u001b[39;00m\n\u001b[0;32m     24\u001b[0m \u001b[38;5;124;03m    \"\"\"\u001b[39;00m\n\u001b[1;32m---> 25\u001b[0m     \u001b[38;5;28;01mreturn\u001b[39;00m ((dataframe[\u001b[38;5;124m\"\u001b[39m\u001b[38;5;124mClose Price\u001b[39m\u001b[38;5;124m\"\u001b[39m]\u001b[38;5;241m.\u001b[39miloc[\u001b[38;5;241m-\u001b[39m\u001b[38;5;241m1\u001b[39m] \u001b[38;5;241m-\u001b[39m \u001b[43mdataframe\u001b[49m\u001b[43m[\u001b[49m\u001b[38;5;124;43m\"\u001b[39;49m\u001b[38;5;124;43mClose Price\u001b[39;49m\u001b[38;5;124;43m\"\u001b[39;49m\u001b[43m]\u001b[49m\u001b[38;5;241;43m.\u001b[39;49m\u001b[43miloc\u001b[49m\u001b[43m[\u001b[49m\u001b[38;5;241;43m-\u001b[39;49m\u001b[43mN\u001b[49m\u001b[43m]\u001b[49m)\u001b[38;5;241m/\u001b[39mdataframe[\u001b[38;5;124m\"\u001b[39m\u001b[38;5;124mClose Price\u001b[39m\u001b[38;5;124m\"\u001b[39m]\u001b[38;5;241m.\u001b[39miloc[\u001b[38;5;241m-\u001b[39mN])\u001b[38;5;241m*\u001b[39m\u001b[38;5;241m100\u001b[39m\n",
      "File \u001b[1;32m~\\AppData\\Roaming\\Python\\Python311\\site-packages\\pandas\\core\\indexing.py:1103\u001b[0m, in \u001b[0;36m_LocationIndexer.__getitem__\u001b[1;34m(self, key)\u001b[0m\n\u001b[0;32m   1100\u001b[0m axis \u001b[38;5;241m=\u001b[39m \u001b[38;5;28mself\u001b[39m\u001b[38;5;241m.\u001b[39maxis \u001b[38;5;129;01mor\u001b[39;00m \u001b[38;5;241m0\u001b[39m\n\u001b[0;32m   1102\u001b[0m maybe_callable \u001b[38;5;241m=\u001b[39m com\u001b[38;5;241m.\u001b[39mapply_if_callable(key, \u001b[38;5;28mself\u001b[39m\u001b[38;5;241m.\u001b[39mobj)\n\u001b[1;32m-> 1103\u001b[0m \u001b[38;5;28;01mreturn\u001b[39;00m \u001b[38;5;28;43mself\u001b[39;49m\u001b[38;5;241;43m.\u001b[39;49m\u001b[43m_getitem_axis\u001b[49m\u001b[43m(\u001b[49m\u001b[43mmaybe_callable\u001b[49m\u001b[43m,\u001b[49m\u001b[43m \u001b[49m\u001b[43maxis\u001b[49m\u001b[38;5;241;43m=\u001b[39;49m\u001b[43maxis\u001b[49m\u001b[43m)\u001b[49m\n",
      "File \u001b[1;32m~\\AppData\\Roaming\\Python\\Python311\\site-packages\\pandas\\core\\indexing.py:1656\u001b[0m, in \u001b[0;36m_iLocIndexer._getitem_axis\u001b[1;34m(self, key, axis)\u001b[0m\n\u001b[0;32m   1653\u001b[0m     \u001b[38;5;28;01mraise\u001b[39;00m \u001b[38;5;167;01mTypeError\u001b[39;00m(\u001b[38;5;124m\"\u001b[39m\u001b[38;5;124mCannot index by location index with a non-integer key\u001b[39m\u001b[38;5;124m\"\u001b[39m)\n\u001b[0;32m   1655\u001b[0m \u001b[38;5;66;03m# validate the location\u001b[39;00m\n\u001b[1;32m-> 1656\u001b[0m \u001b[38;5;28;43mself\u001b[39;49m\u001b[38;5;241;43m.\u001b[39;49m\u001b[43m_validate_integer\u001b[49m\u001b[43m(\u001b[49m\u001b[43mkey\u001b[49m\u001b[43m,\u001b[49m\u001b[43m \u001b[49m\u001b[43maxis\u001b[49m\u001b[43m)\u001b[49m\n\u001b[0;32m   1658\u001b[0m \u001b[38;5;28;01mreturn\u001b[39;00m \u001b[38;5;28mself\u001b[39m\u001b[38;5;241m.\u001b[39mobj\u001b[38;5;241m.\u001b[39m_ixs(key, axis\u001b[38;5;241m=\u001b[39maxis)\n",
      "File \u001b[1;32m~\\AppData\\Roaming\\Python\\Python311\\site-packages\\pandas\\core\\indexing.py:1589\u001b[0m, in \u001b[0;36m_iLocIndexer._validate_integer\u001b[1;34m(self, key, axis)\u001b[0m\n\u001b[0;32m   1587\u001b[0m len_axis \u001b[38;5;241m=\u001b[39m \u001b[38;5;28mlen\u001b[39m(\u001b[38;5;28mself\u001b[39m\u001b[38;5;241m.\u001b[39mobj\u001b[38;5;241m.\u001b[39m_get_axis(axis))\n\u001b[0;32m   1588\u001b[0m \u001b[38;5;28;01mif\u001b[39;00m key \u001b[38;5;241m>\u001b[39m\u001b[38;5;241m=\u001b[39m len_axis \u001b[38;5;129;01mor\u001b[39;00m key \u001b[38;5;241m<\u001b[39m \u001b[38;5;241m-\u001b[39mlen_axis:\n\u001b[1;32m-> 1589\u001b[0m     \u001b[38;5;28;01mraise\u001b[39;00m \u001b[38;5;167;01mIndexError\u001b[39;00m(\u001b[38;5;124m\"\u001b[39m\u001b[38;5;124msingle positional indexer is out-of-bounds\u001b[39m\u001b[38;5;124m\"\u001b[39m)\n",
      "\u001b[1;31mIndexError\u001b[0m: single positional indexer is out-of-bounds"
     ]
    }
   ],
   "source": [
    "# 1 year\n",
    "profit_loss_percentage(stock_data, years=1)"
   ]
  },
  {
   "cell_type": "markdown",
   "metadata": {},
   "source": [
    "## <a id='id6'>Query 1.6</a> \n",
    "Add a column 'Day_Perc_Change' where the values are the daily change in percentages i.e. the percentage change between 2 consecutive day's closing prices. Instead of using the basic mathematical formula for computing the same, use 'pct_change()' function provided by Pandas for dataframes. You will note that the first entry of the column will have a ‘Nan’ value. Why does this happen? Either remove the first row, or set the entry to 0 before proceeding."
   ]
  },
  {
   "cell_type": "code",
   "execution_count": 45,
   "metadata": {},
   "outputs": [
    {
     "data": {
      "text/html": [
       "<div>\n",
       "<style scoped>\n",
       "    .dataframe tbody tr th:only-of-type {\n",
       "        vertical-align: middle;\n",
       "    }\n",
       "\n",
       "    .dataframe tbody tr th {\n",
       "        vertical-align: top;\n",
       "    }\n",
       "\n",
       "    .dataframe thead th {\n",
       "        text-align: right;\n",
       "    }\n",
       "</style>\n",
       "<table border=\"1\" class=\"dataframe\">\n",
       "  <thead>\n",
       "    <tr style=\"text-align: right;\">\n",
       "      <th></th>\n",
       "      <th>Symbol</th>\n",
       "      <th>Series</th>\n",
       "      <th>Date</th>\n",
       "      <th>Prev Close</th>\n",
       "      <th>Open Price</th>\n",
       "      <th>High Price</th>\n",
       "      <th>Low Price</th>\n",
       "      <th>Last Price</th>\n",
       "      <th>Close Price</th>\n",
       "      <th>Average Price</th>\n",
       "      <th>Total Traded Quantity</th>\n",
       "      <th>Turnover</th>\n",
       "      <th>No. of Trades</th>\n",
       "      <th>Deliverable Qty</th>\n",
       "      <th>% Dly Qt to Traded Qty</th>\n",
       "      <th>Year</th>\n",
       "      <th>Month</th>\n",
       "      <th>Day_Perc_Change</th>\n",
       "    </tr>\n",
       "  </thead>\n",
       "  <tbody>\n",
       "    <tr>\n",
       "      <th>0</th>\n",
       "      <td>MUTHOOTFIN</td>\n",
       "      <td>EQ</td>\n",
       "      <td>2017-05-15</td>\n",
       "      <td>390.70</td>\n",
       "      <td>391.00</td>\n",
       "      <td>396.50</td>\n",
       "      <td>388.50</td>\n",
       "      <td>393.00</td>\n",
       "      <td>392.45</td>\n",
       "      <td>393.38</td>\n",
       "      <td>385865</td>\n",
       "      <td>1.517907e+08</td>\n",
       "      <td>6893</td>\n",
       "      <td>63660</td>\n",
       "      <td>16.50</td>\n",
       "      <td>2017</td>\n",
       "      <td>5</td>\n",
       "      <td>0.000000</td>\n",
       "    </tr>\n",
       "    <tr>\n",
       "      <th>2</th>\n",
       "      <td>MUTHOOTFIN</td>\n",
       "      <td>EQ</td>\n",
       "      <td>2017-05-16</td>\n",
       "      <td>392.45</td>\n",
       "      <td>393.65</td>\n",
       "      <td>400.95</td>\n",
       "      <td>393.25</td>\n",
       "      <td>393.45</td>\n",
       "      <td>394.80</td>\n",
       "      <td>398.01</td>\n",
       "      <td>514200</td>\n",
       "      <td>2.046578e+08</td>\n",
       "      <td>9938</td>\n",
       "      <td>100880</td>\n",
       "      <td>19.62</td>\n",
       "      <td>2017</td>\n",
       "      <td>5</td>\n",
       "      <td>0.598802</td>\n",
       "    </tr>\n",
       "    <tr>\n",
       "      <th>6</th>\n",
       "      <td>MUTHOOTFIN</td>\n",
       "      <td>EQ</td>\n",
       "      <td>2017-05-17</td>\n",
       "      <td>394.80</td>\n",
       "      <td>396.90</td>\n",
       "      <td>398.00</td>\n",
       "      <td>392.60</td>\n",
       "      <td>394.10</td>\n",
       "      <td>395.15</td>\n",
       "      <td>394.90</td>\n",
       "      <td>311597</td>\n",
       "      <td>1.230481e+08</td>\n",
       "      <td>6512</td>\n",
       "      <td>116484</td>\n",
       "      <td>37.38</td>\n",
       "      <td>2017</td>\n",
       "      <td>5</td>\n",
       "      <td>0.088652</td>\n",
       "    </tr>\n",
       "    <tr>\n",
       "      <th>8</th>\n",
       "      <td>MUTHOOTFIN</td>\n",
       "      <td>EQ</td>\n",
       "      <td>2017-05-18</td>\n",
       "      <td>395.15</td>\n",
       "      <td>393.00</td>\n",
       "      <td>395.45</td>\n",
       "      <td>375.10</td>\n",
       "      <td>378.85</td>\n",
       "      <td>379.20</td>\n",
       "      <td>386.45</td>\n",
       "      <td>646434</td>\n",
       "      <td>2.498119e+08</td>\n",
       "      <td>11171</td>\n",
       "      <td>238171</td>\n",
       "      <td>36.84</td>\n",
       "      <td>2017</td>\n",
       "      <td>5</td>\n",
       "      <td>-4.036442</td>\n",
       "    </tr>\n",
       "    <tr>\n",
       "      <th>10</th>\n",
       "      <td>MUTHOOTFIN</td>\n",
       "      <td>EQ</td>\n",
       "      <td>2017-05-19</td>\n",
       "      <td>379.20</td>\n",
       "      <td>395.00</td>\n",
       "      <td>400.90</td>\n",
       "      <td>357.45</td>\n",
       "      <td>381.00</td>\n",
       "      <td>379.15</td>\n",
       "      <td>382.13</td>\n",
       "      <td>3211995</td>\n",
       "      <td>1.227389e+09</td>\n",
       "      <td>42906</td>\n",
       "      <td>1193472</td>\n",
       "      <td>37.16</td>\n",
       "      <td>2017</td>\n",
       "      <td>5</td>\n",
       "      <td>-0.013186</td>\n",
       "    </tr>\n",
       "    <tr>\n",
       "      <th>12</th>\n",
       "      <td>MUTHOOTFIN</td>\n",
       "      <td>EQ</td>\n",
       "      <td>2017-05-22</td>\n",
       "      <td>379.15</td>\n",
       "      <td>382.10</td>\n",
       "      <td>393.95</td>\n",
       "      <td>380.80</td>\n",
       "      <td>386.00</td>\n",
       "      <td>385.45</td>\n",
       "      <td>386.04</td>\n",
       "      <td>1733876</td>\n",
       "      <td>6.693403e+08</td>\n",
       "      <td>19865</td>\n",
       "      <td>1424301</td>\n",
       "      <td>82.15</td>\n",
       "      <td>2017</td>\n",
       "      <td>5</td>\n",
       "      <td>1.661611</td>\n",
       "    </tr>\n",
       "    <tr>\n",
       "      <th>16</th>\n",
       "      <td>MUTHOOTFIN</td>\n",
       "      <td>EQ</td>\n",
       "      <td>2017-05-23</td>\n",
       "      <td>385.45</td>\n",
       "      <td>386.65</td>\n",
       "      <td>389.75</td>\n",
       "      <td>372.05</td>\n",
       "      <td>381.70</td>\n",
       "      <td>382.85</td>\n",
       "      <td>383.44</td>\n",
       "      <td>915259</td>\n",
       "      <td>3.509510e+08</td>\n",
       "      <td>34400</td>\n",
       "      <td>453098</td>\n",
       "      <td>49.50</td>\n",
       "      <td>2017</td>\n",
       "      <td>5</td>\n",
       "      <td>-0.674536</td>\n",
       "    </tr>\n",
       "    <tr>\n",
       "      <th>19</th>\n",
       "      <td>MUTHOOTFIN</td>\n",
       "      <td>EQ</td>\n",
       "      <td>2017-05-24</td>\n",
       "      <td>382.85</td>\n",
       "      <td>384.00</td>\n",
       "      <td>395.40</td>\n",
       "      <td>383.50</td>\n",
       "      <td>387.00</td>\n",
       "      <td>386.05</td>\n",
       "      <td>388.48</td>\n",
       "      <td>760640</td>\n",
       "      <td>2.954940e+08</td>\n",
       "      <td>16850</td>\n",
       "      <td>311133</td>\n",
       "      <td>40.90</td>\n",
       "      <td>2017</td>\n",
       "      <td>5</td>\n",
       "      <td>0.835836</td>\n",
       "    </tr>\n",
       "    <tr>\n",
       "      <th>21</th>\n",
       "      <td>MUTHOOTFIN</td>\n",
       "      <td>EQ</td>\n",
       "      <td>2017-05-25</td>\n",
       "      <td>386.05</td>\n",
       "      <td>389.80</td>\n",
       "      <td>393.40</td>\n",
       "      <td>386.85</td>\n",
       "      <td>389.50</td>\n",
       "      <td>389.40</td>\n",
       "      <td>390.29</td>\n",
       "      <td>580979</td>\n",
       "      <td>2.267494e+08</td>\n",
       "      <td>15465</td>\n",
       "      <td>361210</td>\n",
       "      <td>62.17</td>\n",
       "      <td>2017</td>\n",
       "      <td>5</td>\n",
       "      <td>0.867763</td>\n",
       "    </tr>\n",
       "    <tr>\n",
       "      <th>25</th>\n",
       "      <td>MUTHOOTFIN</td>\n",
       "      <td>EQ</td>\n",
       "      <td>2017-05-26</td>\n",
       "      <td>389.40</td>\n",
       "      <td>393.95</td>\n",
       "      <td>403.40</td>\n",
       "      <td>389.45</td>\n",
       "      <td>399.00</td>\n",
       "      <td>398.90</td>\n",
       "      <td>398.08</td>\n",
       "      <td>891020</td>\n",
       "      <td>3.546988e+08</td>\n",
       "      <td>18982</td>\n",
       "      <td>407907</td>\n",
       "      <td>45.78</td>\n",
       "      <td>2017</td>\n",
       "      <td>5</td>\n",
       "      <td>2.439651</td>\n",
       "    </tr>\n",
       "  </tbody>\n",
       "</table>\n",
       "</div>"
      ],
      "text/plain": [
       "        Symbol Series       Date  Prev Close  Open Price  High Price  \\\n",
       "0   MUTHOOTFIN     EQ 2017-05-15      390.70      391.00      396.50   \n",
       "2   MUTHOOTFIN     EQ 2017-05-16      392.45      393.65      400.95   \n",
       "6   MUTHOOTFIN     EQ 2017-05-17      394.80      396.90      398.00   \n",
       "8   MUTHOOTFIN     EQ 2017-05-18      395.15      393.00      395.45   \n",
       "10  MUTHOOTFIN     EQ 2017-05-19      379.20      395.00      400.90   \n",
       "12  MUTHOOTFIN     EQ 2017-05-22      379.15      382.10      393.95   \n",
       "16  MUTHOOTFIN     EQ 2017-05-23      385.45      386.65      389.75   \n",
       "19  MUTHOOTFIN     EQ 2017-05-24      382.85      384.00      395.40   \n",
       "21  MUTHOOTFIN     EQ 2017-05-25      386.05      389.80      393.40   \n",
       "25  MUTHOOTFIN     EQ 2017-05-26      389.40      393.95      403.40   \n",
       "\n",
       "    Low Price  Last Price  Close Price  Average Price  Total Traded Quantity  \\\n",
       "0      388.50      393.00       392.45         393.38                 385865   \n",
       "2      393.25      393.45       394.80         398.01                 514200   \n",
       "6      392.60      394.10       395.15         394.90                 311597   \n",
       "8      375.10      378.85       379.20         386.45                 646434   \n",
       "10     357.45      381.00       379.15         382.13                3211995   \n",
       "12     380.80      386.00       385.45         386.04                1733876   \n",
       "16     372.05      381.70       382.85         383.44                 915259   \n",
       "19     383.50      387.00       386.05         388.48                 760640   \n",
       "21     386.85      389.50       389.40         390.29                 580979   \n",
       "25     389.45      399.00       398.90         398.08                 891020   \n",
       "\n",
       "        Turnover  No. of Trades  Deliverable Qty  % Dly Qt to Traded Qty  \\\n",
       "0   1.517907e+08           6893            63660                   16.50   \n",
       "2   2.046578e+08           9938           100880                   19.62   \n",
       "6   1.230481e+08           6512           116484                   37.38   \n",
       "8   2.498119e+08          11171           238171                   36.84   \n",
       "10  1.227389e+09          42906          1193472                   37.16   \n",
       "12  6.693403e+08          19865          1424301                   82.15   \n",
       "16  3.509510e+08          34400           453098                   49.50   \n",
       "19  2.954940e+08          16850           311133                   40.90   \n",
       "21  2.267494e+08          15465           361210                   62.17   \n",
       "25  3.546988e+08          18982           407907                   45.78   \n",
       "\n",
       "    Year  Month  Day_Perc_Change  \n",
       "0   2017      5         0.000000  \n",
       "2   2017      5         0.598802  \n",
       "6   2017      5         0.088652  \n",
       "8   2017      5        -4.036442  \n",
       "10  2017      5        -0.013186  \n",
       "12  2017      5         1.661611  \n",
       "16  2017      5        -0.674536  \n",
       "19  2017      5         0.835836  \n",
       "21  2017      5         0.867763  \n",
       "25  2017      5         2.439651  "
      ]
     },
     "execution_count": 45,
     "metadata": {},
     "output_type": "execute_result"
    }
   ],
   "source": [
    "# calculate Day Percentage Change and fill NaN with value 0.00\n",
    "stock_data[\"Day_Perc_Change\"] = stock_data[\"Close Price\"].pct_change().fillna(value=0)*100\n",
    "stock_data.head(10)"
   ]
  },
  {
   "cell_type": "markdown",
   "metadata": {},
   "source": [
    "## <a id='id7'>Query 1.7</a> \n",
    "Add another column 'Trend' whose values are:\n",
    "\n",
    "- **'Slight or No change'** for 'Day_Perc_Change' in between -0.5 and 0.5\n",
    "- **'Slight positive'** for 'Day_Perc_Change' in between 0.5 and 1\n",
    "- **'Slight negative'** for 'Day_Perc_Change' in between -0.5 and -1\n",
    "- **'Positive'** for 'Day_Perc_Change' in between 1 and 3\n",
    "- **'Negative'** for 'Day_Perc_Change' in between -1 and -3\n",
    "- **'Among top gainers'** for 'Day_Perc_Change' in between 3 and 7\n",
    "- **'Among top losers'** for 'Day_Perc_Change' in between -3 and -7\n",
    "- **'Bull run'** for 'Day_Perc_Change' >7\n",
    "- **'Bear drop'** for 'Day_Perc_Change' <-7"
   ]
  },
  {
   "cell_type": "code",
   "execution_count": 46,
   "metadata": {},
   "outputs": [
    {
     "data": {
      "text/plain": [
       "[-inf, -7, -3, -1, -0.5, 0.5, 1, 3, 7, inf]"
      ]
     },
     "execution_count": 46,
     "metadata": {},
     "output_type": "execute_result"
    }
   ],
   "source": [
    "Category_bins = [-np.inf, -7, -3, -1, -0.5, 0.5, 1, 3, 7, np.inf]\n",
    "Category_bins"
   ]
  },
  {
   "cell_type": "code",
   "execution_count": 48,
   "metadata": {},
   "outputs": [
    {
     "data": {
      "text/plain": [
       "['Bear drop',\n",
       " 'Among top losers',\n",
       " 'Negative',\n",
       " 'Slight negative',\n",
       " 'Slight or No change',\n",
       " 'Slight positive',\n",
       " 'Positive',\n",
       " 'Among top gainers',\n",
       " 'Bull run']"
      ]
     },
     "execution_count": 48,
     "metadata": {},
     "output_type": "execute_result"
    }
   ],
   "source": [
    "Category_labels = ['Bear drop','Among top losers','Negative','Slight negative','Slight or No change','Slight positive','Positive','Among top gainers','Bull run']\n",
    "Category_labels"
   ]
  },
  {
   "cell_type": "code",
   "execution_count": 49,
   "metadata": {},
   "outputs": [
    {
     "data": {
      "text/html": [
       "<div>\n",
       "<style scoped>\n",
       "    .dataframe tbody tr th:only-of-type {\n",
       "        vertical-align: middle;\n",
       "    }\n",
       "\n",
       "    .dataframe tbody tr th {\n",
       "        vertical-align: top;\n",
       "    }\n",
       "\n",
       "    .dataframe thead th {\n",
       "        text-align: right;\n",
       "    }\n",
       "</style>\n",
       "<table border=\"1\" class=\"dataframe\">\n",
       "  <thead>\n",
       "    <tr style=\"text-align: right;\">\n",
       "      <th></th>\n",
       "      <th>Symbol</th>\n",
       "      <th>Series</th>\n",
       "      <th>Date</th>\n",
       "      <th>Prev Close</th>\n",
       "      <th>Open Price</th>\n",
       "      <th>High Price</th>\n",
       "      <th>Low Price</th>\n",
       "      <th>Last Price</th>\n",
       "      <th>Close Price</th>\n",
       "      <th>Average Price</th>\n",
       "      <th>Total Traded Quantity</th>\n",
       "      <th>Turnover</th>\n",
       "      <th>No. of Trades</th>\n",
       "      <th>Deliverable Qty</th>\n",
       "      <th>% Dly Qt to Traded Qty</th>\n",
       "      <th>Year</th>\n",
       "      <th>Month</th>\n",
       "      <th>Day_Perc_Change</th>\n",
       "      <th>Trend</th>\n",
       "    </tr>\n",
       "  </thead>\n",
       "  <tbody>\n",
       "    <tr>\n",
       "      <th>0</th>\n",
       "      <td>MUTHOOTFIN</td>\n",
       "      <td>EQ</td>\n",
       "      <td>2017-05-15</td>\n",
       "      <td>390.70</td>\n",
       "      <td>391.00</td>\n",
       "      <td>396.50</td>\n",
       "      <td>388.50</td>\n",
       "      <td>393.00</td>\n",
       "      <td>392.45</td>\n",
       "      <td>393.38</td>\n",
       "      <td>385865</td>\n",
       "      <td>1.517907e+08</td>\n",
       "      <td>6893</td>\n",
       "      <td>63660</td>\n",
       "      <td>16.50</td>\n",
       "      <td>2017</td>\n",
       "      <td>5</td>\n",
       "      <td>0.000000</td>\n",
       "      <td>Slight or No change</td>\n",
       "    </tr>\n",
       "    <tr>\n",
       "      <th>2</th>\n",
       "      <td>MUTHOOTFIN</td>\n",
       "      <td>EQ</td>\n",
       "      <td>2017-05-16</td>\n",
       "      <td>392.45</td>\n",
       "      <td>393.65</td>\n",
       "      <td>400.95</td>\n",
       "      <td>393.25</td>\n",
       "      <td>393.45</td>\n",
       "      <td>394.80</td>\n",
       "      <td>398.01</td>\n",
       "      <td>514200</td>\n",
       "      <td>2.046578e+08</td>\n",
       "      <td>9938</td>\n",
       "      <td>100880</td>\n",
       "      <td>19.62</td>\n",
       "      <td>2017</td>\n",
       "      <td>5</td>\n",
       "      <td>0.598802</td>\n",
       "      <td>Slight positive</td>\n",
       "    </tr>\n",
       "    <tr>\n",
       "      <th>6</th>\n",
       "      <td>MUTHOOTFIN</td>\n",
       "      <td>EQ</td>\n",
       "      <td>2017-05-17</td>\n",
       "      <td>394.80</td>\n",
       "      <td>396.90</td>\n",
       "      <td>398.00</td>\n",
       "      <td>392.60</td>\n",
       "      <td>394.10</td>\n",
       "      <td>395.15</td>\n",
       "      <td>394.90</td>\n",
       "      <td>311597</td>\n",
       "      <td>1.230481e+08</td>\n",
       "      <td>6512</td>\n",
       "      <td>116484</td>\n",
       "      <td>37.38</td>\n",
       "      <td>2017</td>\n",
       "      <td>5</td>\n",
       "      <td>0.088652</td>\n",
       "      <td>Slight or No change</td>\n",
       "    </tr>\n",
       "    <tr>\n",
       "      <th>8</th>\n",
       "      <td>MUTHOOTFIN</td>\n",
       "      <td>EQ</td>\n",
       "      <td>2017-05-18</td>\n",
       "      <td>395.15</td>\n",
       "      <td>393.00</td>\n",
       "      <td>395.45</td>\n",
       "      <td>375.10</td>\n",
       "      <td>378.85</td>\n",
       "      <td>379.20</td>\n",
       "      <td>386.45</td>\n",
       "      <td>646434</td>\n",
       "      <td>2.498119e+08</td>\n",
       "      <td>11171</td>\n",
       "      <td>238171</td>\n",
       "      <td>36.84</td>\n",
       "      <td>2017</td>\n",
       "      <td>5</td>\n",
       "      <td>-4.036442</td>\n",
       "      <td>Among top losers</td>\n",
       "    </tr>\n",
       "    <tr>\n",
       "      <th>10</th>\n",
       "      <td>MUTHOOTFIN</td>\n",
       "      <td>EQ</td>\n",
       "      <td>2017-05-19</td>\n",
       "      <td>379.20</td>\n",
       "      <td>395.00</td>\n",
       "      <td>400.90</td>\n",
       "      <td>357.45</td>\n",
       "      <td>381.00</td>\n",
       "      <td>379.15</td>\n",
       "      <td>382.13</td>\n",
       "      <td>3211995</td>\n",
       "      <td>1.227389e+09</td>\n",
       "      <td>42906</td>\n",
       "      <td>1193472</td>\n",
       "      <td>37.16</td>\n",
       "      <td>2017</td>\n",
       "      <td>5</td>\n",
       "      <td>-0.013186</td>\n",
       "      <td>Slight or No change</td>\n",
       "    </tr>\n",
       "  </tbody>\n",
       "</table>\n",
       "</div>"
      ],
      "text/plain": [
       "        Symbol Series       Date  Prev Close  Open Price  High Price  \\\n",
       "0   MUTHOOTFIN     EQ 2017-05-15      390.70      391.00      396.50   \n",
       "2   MUTHOOTFIN     EQ 2017-05-16      392.45      393.65      400.95   \n",
       "6   MUTHOOTFIN     EQ 2017-05-17      394.80      396.90      398.00   \n",
       "8   MUTHOOTFIN     EQ 2017-05-18      395.15      393.00      395.45   \n",
       "10  MUTHOOTFIN     EQ 2017-05-19      379.20      395.00      400.90   \n",
       "\n",
       "    Low Price  Last Price  Close Price  Average Price  Total Traded Quantity  \\\n",
       "0      388.50      393.00       392.45         393.38                 385865   \n",
       "2      393.25      393.45       394.80         398.01                 514200   \n",
       "6      392.60      394.10       395.15         394.90                 311597   \n",
       "8      375.10      378.85       379.20         386.45                 646434   \n",
       "10     357.45      381.00       379.15         382.13                3211995   \n",
       "\n",
       "        Turnover  No. of Trades  Deliverable Qty  % Dly Qt to Traded Qty  \\\n",
       "0   1.517907e+08           6893            63660                   16.50   \n",
       "2   2.046578e+08           9938           100880                   19.62   \n",
       "6   1.230481e+08           6512           116484                   37.38   \n",
       "8   2.498119e+08          11171           238171                   36.84   \n",
       "10  1.227389e+09          42906          1193472                   37.16   \n",
       "\n",
       "    Year  Month  Day_Perc_Change                Trend  \n",
       "0   2017      5         0.000000  Slight or No change  \n",
       "2   2017      5         0.598802      Slight positive  \n",
       "6   2017      5         0.088652  Slight or No change  \n",
       "8   2017      5        -4.036442     Among top losers  \n",
       "10  2017      5        -0.013186  Slight or No change  "
      ]
     },
     "execution_count": 49,
     "metadata": {},
     "output_type": "execute_result"
    }
   ],
   "source": [
    "stock_data['Trend'] = pd.cut(stock_data.Day_Perc_Change, bins=Category_bins, labels=Category_labels, include_lowest=True)\n",
    "stock_data.head()"
   ]
  },
  {
   "cell_type": "code",
   "execution_count": 50,
   "metadata": {},
   "outputs": [
    {
     "data": {
      "text/html": [
       "<div>\n",
       "<style scoped>\n",
       "    .dataframe tbody tr th:only-of-type {\n",
       "        vertical-align: middle;\n",
       "    }\n",
       "\n",
       "    .dataframe tbody tr th {\n",
       "        vertical-align: top;\n",
       "    }\n",
       "\n",
       "    .dataframe thead th {\n",
       "        text-align: right;\n",
       "    }\n",
       "</style>\n",
       "<table border=\"1\" class=\"dataframe\">\n",
       "  <thead>\n",
       "    <tr style=\"text-align: right;\">\n",
       "      <th></th>\n",
       "      <th>Day_Perc_Change</th>\n",
       "      <th>Trend</th>\n",
       "    </tr>\n",
       "  </thead>\n",
       "  <tbody>\n",
       "    <tr>\n",
       "      <th>0</th>\n",
       "      <td>0.000000</td>\n",
       "      <td>Slight or No change</td>\n",
       "    </tr>\n",
       "    <tr>\n",
       "      <th>2</th>\n",
       "      <td>0.598802</td>\n",
       "      <td>Slight positive</td>\n",
       "    </tr>\n",
       "    <tr>\n",
       "      <th>6</th>\n",
       "      <td>0.088652</td>\n",
       "      <td>Slight or No change</td>\n",
       "    </tr>\n",
       "    <tr>\n",
       "      <th>8</th>\n",
       "      <td>-4.036442</td>\n",
       "      <td>Among top losers</td>\n",
       "    </tr>\n",
       "    <tr>\n",
       "      <th>10</th>\n",
       "      <td>-0.013186</td>\n",
       "      <td>Slight or No change</td>\n",
       "    </tr>\n",
       "    <tr>\n",
       "      <th>12</th>\n",
       "      <td>1.661611</td>\n",
       "      <td>Positive</td>\n",
       "    </tr>\n",
       "    <tr>\n",
       "      <th>16</th>\n",
       "      <td>-0.674536</td>\n",
       "      <td>Slight negative</td>\n",
       "    </tr>\n",
       "    <tr>\n",
       "      <th>19</th>\n",
       "      <td>0.835836</td>\n",
       "      <td>Slight positive</td>\n",
       "    </tr>\n",
       "    <tr>\n",
       "      <th>21</th>\n",
       "      <td>0.867763</td>\n",
       "      <td>Slight positive</td>\n",
       "    </tr>\n",
       "    <tr>\n",
       "      <th>25</th>\n",
       "      <td>2.439651</td>\n",
       "      <td>Positive</td>\n",
       "    </tr>\n",
       "  </tbody>\n",
       "</table>\n",
       "</div>"
      ],
      "text/plain": [
       "    Day_Perc_Change                Trend\n",
       "0          0.000000  Slight or No change\n",
       "2          0.598802      Slight positive\n",
       "6          0.088652  Slight or No change\n",
       "8         -4.036442     Among top losers\n",
       "10        -0.013186  Slight or No change\n",
       "12         1.661611             Positive\n",
       "16        -0.674536      Slight negative\n",
       "19         0.835836      Slight positive\n",
       "21         0.867763      Slight positive\n",
       "25         2.439651             Positive"
      ]
     },
     "execution_count": 50,
     "metadata": {},
     "output_type": "execute_result"
    }
   ],
   "source": [
    "# Print the first 10 values with only \"Day_Perc_Change\" and \"Trend\" columns\n",
    "stock_data.iloc[:10, -2:]"
   ]
  },
  {
   "cell_type": "markdown",
   "metadata": {},
   "source": [
    "## <a id='id8'>Query 1.8</a> \n",
    "Find the average and median values of the column 'Total Traded Quantity' for each of the types of 'Trend'.<br>\n",
    "{Hint : use 'groupby()' on the 'Trend' column and then calculate the average and median values of the column 'Total Traded Quantity'} "
   ]
  },
  {
   "cell_type": "code",
   "execution_count": 51,
   "metadata": {},
   "outputs": [
    {
     "data": {
      "text/html": [
       "<div>\n",
       "<style scoped>\n",
       "    .dataframe tbody tr th:only-of-type {\n",
       "        vertical-align: middle;\n",
       "    }\n",
       "\n",
       "    .dataframe tbody tr th {\n",
       "        vertical-align: top;\n",
       "    }\n",
       "\n",
       "    .dataframe thead th {\n",
       "        text-align: right;\n",
       "    }\n",
       "</style>\n",
       "<table border=\"1\" class=\"dataframe\">\n",
       "  <thead>\n",
       "    <tr style=\"text-align: right;\">\n",
       "      <th></th>\n",
       "      <th>average</th>\n",
       "      <th>median</th>\n",
       "    </tr>\n",
       "    <tr>\n",
       "      <th>Trend</th>\n",
       "      <th></th>\n",
       "      <th></th>\n",
       "    </tr>\n",
       "  </thead>\n",
       "  <tbody>\n",
       "    <tr>\n",
       "      <th>Bear drop</th>\n",
       "      <td>NaN</td>\n",
       "      <td>NaN</td>\n",
       "    </tr>\n",
       "    <tr>\n",
       "      <th>Among top losers</th>\n",
       "      <td>6.464340e+05</td>\n",
       "      <td>646434.0</td>\n",
       "    </tr>\n",
       "    <tr>\n",
       "      <th>Negative</th>\n",
       "      <td>4.779779e+05</td>\n",
       "      <td>469608.0</td>\n",
       "    </tr>\n",
       "    <tr>\n",
       "      <th>Slight negative</th>\n",
       "      <td>6.369736e+05</td>\n",
       "      <td>655299.0</td>\n",
       "    </tr>\n",
       "    <tr>\n",
       "      <th>Slight or No change</th>\n",
       "      <td>7.384137e+05</td>\n",
       "      <td>488523.0</td>\n",
       "    </tr>\n",
       "    <tr>\n",
       "      <th>Slight positive</th>\n",
       "      <td>7.525700e+05</td>\n",
       "      <td>580979.0</td>\n",
       "    </tr>\n",
       "    <tr>\n",
       "      <th>Positive</th>\n",
       "      <td>1.037597e+06</td>\n",
       "      <td>891020.0</td>\n",
       "    </tr>\n",
       "    <tr>\n",
       "      <th>Among top gainers</th>\n",
       "      <td>1.146290e+06</td>\n",
       "      <td>1184619.5</td>\n",
       "    </tr>\n",
       "    <tr>\n",
       "      <th>Bull run</th>\n",
       "      <td>NaN</td>\n",
       "      <td>NaN</td>\n",
       "    </tr>\n",
       "  </tbody>\n",
       "</table>\n",
       "</div>"
      ],
      "text/plain": [
       "                          average     median\n",
       "Trend                                       \n",
       "Bear drop                     NaN        NaN\n",
       "Among top losers     6.464340e+05   646434.0\n",
       "Negative             4.779779e+05   469608.0\n",
       "Slight negative      6.369736e+05   655299.0\n",
       "Slight or No change  7.384137e+05   488523.0\n",
       "Slight positive      7.525700e+05   580979.0\n",
       "Positive             1.037597e+06   891020.0\n",
       "Among top gainers    1.146290e+06  1184619.5\n",
       "Bull run                      NaN        NaN"
      ]
     },
     "execution_count": 51,
     "metadata": {},
     "output_type": "execute_result"
    }
   ],
   "source": [
    "avg_median_trendwise = stock_data.groupby(by=\"Trend\")[\"Total Traded Quantity\"].agg(['mean','median']).rename(columns={'mean':'average'})\n",
    "avg_median_trendwise"
   ]
  },
  {
   "cell_type": "markdown",
   "metadata": {},
   "source": [
    "## <a id='id9'>Query 1.9</a> \n",
    "SAVE the dataframe with the additional columns computed as a csv file week2.csv. In Module 2, you are going to get familiar with matplotlib, the python module which is used to visualize data. "
   ]
  },
  {
   "cell_type": "code",
   "execution_count": 53,
   "metadata": {},
   "outputs": [],
   "source": [
    "# Save the dataframe as \"muthfin2.csv\" file\n",
    "# stock_data.to_csv('./muthfin2.csv')\n",
    "stock_data.to_csv('./muthfin2.csv')"
   ]
  }
 ],
 "metadata": {
  "kernelspec": {
   "display_name": "Python 3",
   "language": "python",
   "name": "python3"
  },
  "language_info": {
   "codemirror_mode": {
    "name": "ipython",
    "version": 3
   },
   "file_extension": ".py",
   "mimetype": "text/x-python",
   "name": "python",
   "nbconvert_exporter": "python",
   "pygments_lexer": "ipython3",
   "version": "3.11.1"
  }
 },
 "nbformat": 4,
 "nbformat_minor": 2
}
